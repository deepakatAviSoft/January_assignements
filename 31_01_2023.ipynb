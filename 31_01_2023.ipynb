{
  "nbformat": 4,
  "nbformat_minor": 0,
  "metadata": {
    "colab": {
      "provenance": [],
      "authorship_tag": "ABX9TyOu0eM2/LDmVGsKgbs/IkJd",
      "include_colab_link": true
    },
    "kernelspec": {
      "name": "python3",
      "display_name": "Python 3"
    },
    "language_info": {
      "name": "python"
    }
  },
  "cells": [
    {
      "cell_type": "markdown",
      "metadata": {
        "id": "view-in-github",
        "colab_type": "text"
      },
      "source": [
        "<a href=\"https://colab.research.google.com/github/deepakatAviSoft/January_assignements/blob/main/31_01_2023.ipynb\" target=\"_parent\"><img src=\"https://colab.research.google.com/assets/colab-badge.svg\" alt=\"Open In Colab\"/></a>"
      ]
    },
    {
      "cell_type": "markdown",
      "source": [
        "<b><h1>1. Count Words</h1></b><br>\n",
        "\n",
        "Problem statement<br>\n",
        "For a given input string(str), find and return the total number of words present in it.<br>\n",
        "\n",
        "It is assumed that two words will have only a single space in between. Also, there wouldn't be any leading and trailing spaces in the given input string.\n",
        "\n",
        "Sample Input 1:<br>\n",
        "This is Avisoft<br>\n",
        "Sample Output 1:<br>\n",
        "3"
      ],
      "metadata": {
        "id": "DCTkvtXPvkBY"
      }
    },
    {
      "cell_type": "code",
      "source": [
        "def word_counter(sentence):\n",
        "  count = 0\n",
        "  for alphabet in sentence:\n",
        "    if alphabet == \" \":\n",
        "      count += 1\n",
        "\n",
        "  result = count + 1\n",
        "  return result\n",
        "\n"
      ],
      "metadata": {
        "id": "4AJwTsdSxIuR"
      },
      "execution_count": 6,
      "outputs": []
    },
    {
      "cell_type": "code",
      "source": [
        "sentence = \"This is Avisoft.\"\n",
        "ans = word_counter(sentence)\n",
        "ans"
      ],
      "metadata": {
        "colab": {
          "base_uri": "https://localhost:8080/"
        },
        "id": "FeKHIWijyyNN",
        "outputId": "bf80fb93-ca4e-4640-90cd-3f6dc36d298b"
      },
      "execution_count": 8,
      "outputs": [
        {
          "output_type": "execute_result",
          "data": {
            "text/plain": [
              "4"
            ]
          },
          "metadata": {},
          "execution_count": 8
        }
      ]
    },
    {
      "cell_type": "markdown",
      "source": [
        "2.String Palindrome\n",
        "Problem statement\n",
        "Given a string, determine if it is a palindrome, considering only alphanumeric characters.\n",
        "\n",
        "Palindrome\n",
        "A palindrome is a word, number, phrase, or other sequences of characters which read the same backwards and forwards.\n",
        "Example:\n",
        "If the input string happens to be, \"malayalam\" then as we see that this word can be read the same as forward and backwards, it is said to be a valid palindrome.\n",
        "\n",
        "The expected output for this example will print, 'true'.\n",
        "From that being said, you are required to return a boolean value from the function that has been asked to implement."
      ],
      "metadata": {
        "id": "Y_PScFyNvl-W"
      }
    },
    {
      "cell_type": "code",
      "source": [
        "def palindrome_checker(word):\n",
        "  return word == word[::-1]"
      ],
      "metadata": {
        "id": "iihswYZbyxen"
      },
      "execution_count": 12,
      "outputs": []
    },
    {
      "cell_type": "code",
      "source": [
        "word =  \"malayalam\"\n",
        "\n",
        "ans = palindrome_checker(word)\n",
        "ans"
      ],
      "metadata": {
        "colab": {
          "base_uri": "https://localhost:8080/"
        },
        "id": "oHA_kF6N1jZX",
        "outputId": "47b3469d-3b04-417c-9b39-69de95c47b1f"
      },
      "execution_count": 13,
      "outputs": [
        {
          "output_type": "execute_result",
          "data": {
            "text/plain": [
              "True"
            ]
          },
          "metadata": {},
          "execution_count": 13
        }
      ]
    },
    {
      "cell_type": "markdown",
      "source": [
        "<b><h1>3. All Substrings</h1></b>\n",
        "\n",
        "Problem statement\n",
        "\n",
        "For a given input string(str), write a function to print all the possible substrings.\n",
        "\n",
        "Substring\n",
        "A substring is a contiguous sequence of characters within a string. <br>\n",
        "Example: \"cod\" is a substring of \"coding\". Whereas, \"cdng\" is not as the characters taken are not contiguous\n",
        "<pre>\n",
        "Sample Input 1:\n",
        "abc\n",
        "Sample Output 1:\n",
        "a\n",
        "ab\n",
        "abc\n",
        "b\n",
        "bc\n",
        "c\n",
        "</pre>"
      ],
      "metadata": {
        "id": "VCVj2Lm0vqb8"
      }
    },
    {
      "cell_type": "code",
      "source": [
        "def sub_string_gen(string):\n",
        "  n = len(string)\n",
        "  result = []\n",
        "  for i in range(n):\n",
        "    for j in range(i+1, n+1):\n",
        "      result.append(string[i:j])\n",
        "  return result"
      ],
      "metadata": {
        "id": "ifYRbn0x3gN8"
      },
      "execution_count": 48,
      "outputs": []
    },
    {
      "cell_type": "code",
      "source": [
        "string = \"abc\"\n",
        "ans = sub_string_gen(string)\n",
        "ans"
      ],
      "metadata": {
        "colab": {
          "base_uri": "https://localhost:8080/"
        },
        "id": "Jw5cZoqXDgPH",
        "outputId": "dca05443-28d3-4098-fa3e-5558c00b8ca0"
      },
      "execution_count": 49,
      "outputs": [
        {
          "output_type": "execute_result",
          "data": {
            "text/plain": [
              "['a', 'ab', 'abc', 'b', 'bc', 'c']"
            ]
          },
          "metadata": {},
          "execution_count": 49
        }
      ]
    },
    {
      "cell_type": "markdown",
      "source": [
        "4.check Permutation\n",
        "Problem statement\n",
        "For a given two strings, 'str1' and 'str2', check whether they are a permutation of each other or not.\n",
        "\n",
        "Permutations of each other\n",
        "Two strings are said to be a permutation of each other when either of the string's characters can be rearranged so that it becomes identical to the other one.\n",
        "\n",
        "Example:\n",
        "str1= \"sinrtg\"\n",
        "str2 = \"string\"\n",
        "\n",
        "The character of the first string(str1) can be rearranged to form str2 and hence we can say that the given strings are a permutation of each other.\n",
        "Sample Input 1:\n",
        "abcde\n",
        "baedc\n",
        "Sample Output 1:\n",
        "true"
      ],
      "metadata": {
        "id": "yGhGEQPMv4-r"
      }
    },
    {
      "cell_type": "markdown",
      "source": [
        "5.Remove Consecutive Duplicates\n",
        "Problem statement\n",
        "For a given string(str), remove all the consecutive duplicate characters.\n",
        "\n",
        "Example:\n",
        "Input String: \"aaaa\"\n",
        "Expected Output: \"a\"\n",
        "\n",
        "Input String: \"aabbbcc\"\n",
        "Expected Output: \"abc\"\n",
        " Input Format:\n",
        "The first and only line of input contains a string without any leading and trailing spaces. All the characters in the string would be in lower case.\n",
        "Output Format:\n",
        "The only line of output prints the updated string.\n",
        "Note:\n",
        "You are not required to print anything. It has already been taken care of."
      ],
      "metadata": {
        "id": "VmEZErLFv8Xp"
      }
    },
    {
      "cell_type": "markdown",
      "source": [
        "6.Remove character\n",
        "Problem statement\n",
        "For a given a string(str) and a character X, write a function to remove all the occurrences of X from the given string.\n",
        "\n",
        "The input string will remain unchanged if the given character(X) doesn't exist in the input string.\n",
        "\n",
        "Sample Input 1:\n",
        "aabccbaa\n",
        "a\n",
        "Sample Output 1:\n",
        "bccb"
      ],
      "metadata": {
        "id": "IMowmVXlwD9W"
      }
    },
    {
      "cell_type": "markdown",
      "source": [
        "7.Highest Occuring Charactor\n",
        "Problem statement\n",
        "For a given a string(str), find and return the highest occurring character.\n",
        "\n",
        "Example:\n",
        "Input String: \"abcdeapapqarr\"\n",
        "Expected Output: 'a'\n",
        "Since 'a' has appeared four times in the string which happens to be the highest frequency character, the answer would be 'a'.\n",
        "If there are two characters in the input string with the same frequency, return the character which comes first.\n",
        "\n",
        "Consider:\n",
        "Assume all the characters in the given string to be in lowercase always.\n",
        "\n",
        "Sample Input 1:\n",
        "abdefgbabfba\n",
        "Sample Output 1:\n",
        "b"
      ],
      "metadata": {
        "id": "YSTQwJwqwGDM"
      }
    },
    {
      "cell_type": "markdown",
      "source": [
        "8.Compress the String\n",
        "Problem statement\n",
        "Write a program to do basic string compression. For a character which is consecutively repeated more than once, replace consecutive duplicate occurrences with the count of repetitions.\n",
        "\n",
        "Example:\n",
        "If a string has 'x' repeated 5 times, replace this \"xxxxx\" with \"x5\".\n",
        "\n",
        "The string is compressed only when the repeated character count is more than 1.\n",
        "Note:\n",
        "Consecutive count of every character in the input string is less than or equal to 9. You are not required to print anything. It has already been taken care of. Just implement the given function and return the compressed string."
      ],
      "metadata": {
        "id": "Oyh2YjljwlEg"
      }
    },
    {
      "cell_type": "code",
      "source": [
        "def generate_substrings(s):\n",
        "    n = len(s)\n",
        "    for i in range(n):\n",
        "        for j in range(i + 1, n + 1):\n",
        "            substring = s[i:j]\n",
        "            print(substring)\n",
        "\n",
        "# Sample Input\n",
        "input_str = \"abc\"\n",
        "\n",
        "# Generate and print substrings\n",
        "generate_substrings(input_str)\n"
      ],
      "metadata": {
        "colab": {
          "base_uri": "https://localhost:8080/"
        },
        "id": "pKLe-TXq6jnn",
        "outputId": "fe6d96bf-c08c-4173-c2b9-3bf6d0565879"
      },
      "execution_count": 31,
      "outputs": [
        {
          "output_type": "stream",
          "name": "stdout",
          "text": [
            "0 1\n",
            "a\n",
            "0 2\n",
            "ab\n",
            "0 3\n",
            "abc\n",
            "1 2\n",
            "b\n",
            "1 3\n",
            "bc\n",
            "2 3\n",
            "c\n"
          ]
        }
      ]
    },
    {
      "cell_type": "code",
      "source": [],
      "metadata": {
        "id": "3NJAJc8nAstS"
      },
      "execution_count": 44,
      "outputs": []
    },
    {
      "cell_type": "code",
      "source": [],
      "metadata": {
        "id": "kJBrY0_sCOLS"
      },
      "execution_count": null,
      "outputs": []
    }
  ]
}