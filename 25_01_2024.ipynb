{
  "cells": [
    {
      "cell_type": "markdown",
      "metadata": {
        "id": "view-in-github",
        "colab_type": "text"
      },
      "source": [
        "<a href=\"https://colab.research.google.com/github/deepakatAviSoft/deepak_avisoft/blob/main/25_01_2024.ipynb\" target=\"_parent\"><img src=\"https://colab.research.google.com/assets/colab-badge.svg\" alt=\"Open In Colab\"/></a>"
      ]
    },
    {
      "cell_type": "markdown",
      "source": [
        "<b>1.</b> Print this pattern<br>\n",
        "<pre>\n",
        "0\n",
        "12\n",
        "345\n",
        "6789\n",
        "</pre>"
      ],
      "metadata": {
        "id": "yvBNvrp_7-z_"
      },
      "id": "yvBNvrp_7-z_"
    },
    {
      "cell_type": "code",
      "execution_count": null,
      "id": "8af18152",
      "metadata": {
        "id": "8af18152",
        "outputId": "75dc36d7-51b2-4b69-bcc2-aa4e4cff8204"
      },
      "outputs": [
        {
          "name": "stdout",
          "output_type": "stream",
          "text": [
            "0\n",
            "12\n",
            "345\n",
            "6789\n"
          ]
        }
      ],
      "source": [
        "n = 1\n",
        "count = 0\n",
        "for i in range(4):\n",
        "    for j in range(n):\n",
        "        print(count, end=\"\")\n",
        "        count += 1\n",
        "    n += 1\n",
        "\n",
        "    print(\"\")"
      ]
    },
    {
      "cell_type": "markdown",
      "source": [
        "<b>2.</b> Factorial of a number. <br>\n"
      ],
      "metadata": {
        "id": "cNnszLlC8sQg"
      },
      "id": "cNnszLlC8sQg"
    },
    {
      "cell_type": "code",
      "execution_count": null,
      "id": "1718fdd0",
      "metadata": {
        "id": "1718fdd0",
        "outputId": "af194569-a20c-4033-d32a-3bdc58c1f102"
      },
      "outputs": [
        {
          "name": "stdout",
          "output_type": "stream",
          "text": [
            "5\n"
          ]
        },
        {
          "data": {
            "text/plain": [
              "120"
            ]
          },
          "execution_count": 38,
          "metadata": {},
          "output_type": "execute_result"
        }
      ],
      "source": [
        "def fact(n):\n",
        "    if n == 0 or n == 1:\n",
        "        return 1\n",
        "    else:\n",
        "        return n * fact(n-1)\n",
        "\n",
        "n = int(input())\n",
        "fact(n)"
      ]
    },
    {
      "cell_type": "markdown",
      "source": [
        "<b>3.</b> Print this pattern. <br>\n",
        "<pre>\n",
        "    1\n",
        "   2 3\n",
        "  4 5 6\n",
        "</pre>"
      ],
      "metadata": {
        "id": "QpKRaE139D67"
      },
      "id": "QpKRaE139D67"
    },
    {
      "cell_type": "code",
      "execution_count": null,
      "id": "2ce58631",
      "metadata": {
        "id": "2ce58631",
        "outputId": "4b71e4b9-f1b1-4332-c863-3f266228834d"
      },
      "outputs": [
        {
          "name": "stdout",
          "output_type": "stream",
          "text": [
            "5\n",
            "    1 \n",
            "   2 3 \n",
            "  4 5 6 \n",
            " 7 8 9 10 \n",
            "11 12 13 14 15 \n"
          ]
        }
      ],
      "source": [
        "#pattern printing\n",
        "#3\n",
        "n = int(input())\n",
        "spaces = n-1\n",
        "count = 1\n",
        "bucket1 = []\n",
        "bucket2 = []\n",
        "bucket3 = []\n",
        "for i in range(1, n+1, 1):\n",
        "    bucket1.append(i)\n",
        "    for space in range(spaces-i+1, 0, -1):\n",
        "        print(\" \", end = \"\")\n",
        "        bucket2.append(space)\n",
        "    for num in range(1, i+1, 1):\n",
        "        print(count, end = \" \" )\n",
        "        count += 1\n",
        "        bucket3.append(num)\n",
        "\n",
        "    print()\n",
        ""
      ]
    },
    {
      "cell_type": "markdown",
      "id": "1883c503",
      "metadata": {
        "id": "1883c503"
      },
      "source": [
        "# Assignment 1"
      ]
    },
    {
      "cell_type": "markdown",
      "id": "ccfa4457",
      "metadata": {
        "id": "ccfa4457"
      },
      "source": [
        "<b>1.</b> Given an array 'arr' containing 'n' elements, rotate this array left once and return it.\n",
        "Rotating the array left by one means shifting all elements by one place to the left and moving the first element to the last position in the array.\n",
        "\n",
        "\n",
        "Example:\n",
        "\n",
        "Input: 'a' = 5, 'arr' = [1, 2, 3, 4, 5]<br>\n",
        "Output: [2, 3, 4, 5, 1]\n",
        "\n",
        "Explanation: We moved the 2nd element to the 1st position, and 3rd element to the 2nd position, and 4th element to the 3rd position, and the 5th element to the 4th position, and move the 1st element to the 5th position."
      ]
    },
    {
      "cell_type": "code",
      "execution_count": null,
      "id": "b07d2567",
      "metadata": {
        "id": "b07d2567",
        "outputId": "5c1b28a2-37da-40d3-ec3c-5229559c7eb5"
      },
      "outputs": [
        {
          "data": {
            "text/plain": [
              "[5, 1, 2, 3, 4]"
            ]
          },
          "execution_count": 108,
          "metadata": {},
          "output_type": "execute_result"
        }
      ],
      "source": [
        "arr = [1,2,3,4,5]\n",
        "a = 5 #number of elements in the array\n",
        "\n",
        "last_element = arr[a-1]\n",
        "arr.pop(a-1)\n",
        "arr.insert(0,a)\n",
        "\n",
        "\n",
        "arr #output"
      ]
    },
    {
      "cell_type": "markdown",
      "id": "37dce1f6",
      "metadata": {
        "id": "37dce1f6"
      },
      "source": [
        "<b>2.</b> You are given an array 'arr' of length 'n', consisting of integers.\n",
        "A subarray is a contiguous segment of an array. In other words, a subarray can be formed by removing 0 or more integers from the beginning and 0 or more integers from the end of an array.\n",
        "Find the sum of the subarray (including empty subarray) having maximum sum among all subarrays.\n",
        "The sum of an empty subarray is 0.\n",
        "\n",
        "\n",
        "Example :\n",
        "\n",
        "Input: 'arr' = [1, 2, 7, -4, 3, 2, -10, 9, 1]\n",
        "\n",
        "\n",
        "Output: 11\n",
        "\n",
        "\n",
        "Explanation: The subarray yielding the maximum sum is [1, 2, 7, -4, 3, 2]."
      ]
    },
    {
      "cell_type": "code",
      "execution_count": null,
      "id": "33572b4c",
      "metadata": {
        "id": "33572b4c"
      },
      "outputs": [],
      "source": [
        "arr = [1, 2, 7, -4, 3, 2, -10, 9, 1]\n",
        "n = len(arr)"
      ]
    },
    {
      "cell_type": "code",
      "execution_count": null,
      "id": "8dbbf796",
      "metadata": {
        "id": "8dbbf796"
      },
      "outputs": [],
      "source": [
        "bucket1 = []\n",
        "bucket2 = []\n",
        "for i in range(n):\n",
        "    #print(arr[0:i])\n",
        "    bucket1.append(sum(arr[0:i]))\n",
        "\n",
        "for i in range(n):\n",
        "    #print(arr[i:n])\n",
        "    bucket2.append(sum(arr[i:n]))\n",
        "\n",
        "max_from_bucket1 = max(bucket1)\n",
        "max_from_bucket2 = max(bucket2)\n",
        "\n",
        "if max_from_bucket1 > max_from_bucket2:\n",
        "    max_sum = max_from_bucket1\n",
        "else:\n",
        "    max_sum = max_from_bucket2"
      ]
    },
    {
      "cell_type": "code",
      "execution_count": null,
      "id": "756b862e",
      "metadata": {
        "id": "756b862e",
        "outputId": "0cbcd3fc-ea93-4996-eb30-fdab1df0c720"
      },
      "outputs": [
        {
          "data": {
            "text/plain": [
              "11"
            ]
          },
          "execution_count": 127,
          "metadata": {},
          "output_type": "execute_result"
        }
      ],
      "source": [
        "max_sum"
      ]
    },
    {
      "cell_type": "markdown",
      "id": "f3e0565e",
      "metadata": {
        "id": "f3e0565e"
      },
      "source": [
        "<b>3.</b> Write a function to reverse a string without using any built-in reverse functions."
      ]
    },
    {
      "cell_type": "code",
      "execution_count": null,
      "id": "8d65bc94",
      "metadata": {
        "id": "8d65bc94",
        "outputId": "0b67ee5b-c872-472e-8c60-57904bf76283"
      },
      "outputs": [
        {
          "data": {
            "text/plain": [
              "'dcba'"
            ]
          },
          "execution_count": 136,
          "metadata": {},
          "output_type": "execute_result"
        }
      ],
      "source": [
        "string = \"abcd\"\n",
        "reverse_string = string[::-1]\n",
        "reverse_string"
      ]
    },
    {
      "cell_type": "markdown",
      "id": "062335c9",
      "metadata": {
        "id": "062335c9"
      },
      "source": [
        "<b>4.</b>\n",
        "Write a function to check if two strings are anagrams of each other.<br>\n",
        "\n",
        "Example:<br>\n",
        "    \n",
        "Input 1: \"listen\"<br>\n",
        "    \n",
        "Input 2: \"silent\"<br>\n",
        "    \n",
        "Output: Are Anagrams: True<br>\n",
        "        \n",
        "Explanation<br>\n",
        "\n",
        "function first removes spaces and converts both input strings to lowercase to <br>make the comparison case-insensitive.<br>\n",
        "Then, it checks if the sorted list of characters in both strings is the same. <br>If they are the same, the strings are anagrams.<br>\n",
        "\n",
        "The function returns True for this example because the characters in \"listen\" <br>can be rearranged to form \"silent.\" If the characters were different or had<br> different frequencies, the function would return False.<br>"
      ]
    },
    {
      "cell_type": "code",
      "execution_count": null,
      "id": "fd3a4197",
      "metadata": {
        "id": "fd3a4197",
        "outputId": "ee8ce252-4c43-482f-a502-e8547dc0fc9d"
      },
      "outputs": [
        {
          "data": {
            "text/plain": [
              "True"
            ]
          },
          "execution_count": 146,
          "metadata": {},
          "output_type": "execute_result"
        }
      ],
      "source": [
        "def anagram_detector(string1, string2):\n",
        "    return sorted(string1) == sorted(string2)\n",
        "\n",
        "\n",
        "string1 = \"listen\"\n",
        "string2 = \"silent\"\n",
        "\n",
        "anagram_detector(string1, string2)"
      ]
    },
    {
      "cell_type": "markdown",
      "id": "fb511d7b",
      "metadata": {
        "id": "fb511d7b"
      },
      "source": [
        "# Practice Questions..."
      ]
    },
    {
      "cell_type": "markdown",
      "id": "037b2342",
      "metadata": {
        "id": "037b2342"
      },
      "source": [
        "## 1.\n",
        "Write a program to print all the unique characters in a String. For instance, if the input string is “abcb”, the output will be the characters ‘a’ and ‘c’ as they are unique. The character ‘b’ repeats twice and so it will not be printed.\n",
        "\n",
        "Input: abcab\n",
        "\n",
        "Output: c"
      ]
    },
    {
      "cell_type": "code",
      "execution_count": null,
      "id": "350f32e3",
      "metadata": {
        "id": "350f32e3",
        "outputId": "439c95a3-3eb3-4c05-d1ce-be0e7d1e1fe7"
      },
      "outputs": [
        {
          "name": "stdout",
          "output_type": "stream",
          "text": [
            "c\n"
          ]
        }
      ],
      "source": [
        "string = 'abcab'\n",
        "tray = {}\n",
        "for char in string:\n",
        "    if char not in tray:\n",
        "        tray[char] = []\n",
        "    tray[char].append(char)\n",
        "\n",
        "for i in tray:\n",
        "    if len(tray[i]) == 1:\n",
        "        print(i)\n",
        ""
      ]
    },
    {
      "cell_type": "markdown",
      "id": "b4933250",
      "metadata": {
        "id": "b4933250"
      },
      "source": [
        "## 2.\n",
        "Given three values - Start Fahrenheit Value (S), End Fahrenheit value (E) and Step Size (W), you need to convert all Fahrenheit values from Start to End at the gap of W, into their corresponding Celsius values and print the table.\n",
        "\n",
        "\n",
        "Sample Input :\n",
        "120\n",
        "200\n",
        "40\n",
        "\n",
        "\n",
        "Sample Output :\n",
        "120 48\n",
        "160 71\n",
        "200 93"
      ]
    },
    {
      "cell_type": "code",
      "execution_count": null,
      "id": "054276a0",
      "metadata": {
        "id": "054276a0"
      },
      "outputs": [],
      "source": [
        "def fahrenheit_to_celsius(start_f, end_f, step_size):\n",
        "    f = start_f\n",
        "    result = []\n",
        "    while f <= end_f:\n",
        "        celsius = int((f - 32) * 5/9)\n",
        "        result.append(f)\n",
        "        result.append(celsius)\n",
        "        f = f + step_size\n",
        "    return result"
      ]
    },
    {
      "cell_type": "code",
      "execution_count": null,
      "id": "9b878019",
      "metadata": {
        "id": "9b878019",
        "outputId": "1cde33c1-5d38-46cd-8633-1691175dea52"
      },
      "outputs": [
        {
          "data": {
            "text/plain": [
              "[120, 48, 160, 71, 200, 93]"
            ]
          },
          "execution_count": 173,
          "metadata": {},
          "output_type": "execute_result"
        }
      ],
      "source": [
        "start = 120\n",
        "end = 200\n",
        "step = 40\n",
        "\n",
        "fahrenheit_to_celsius(start, end, step)"
      ]
    },
    {
      "cell_type": "markdown",
      "id": "5e75708b",
      "metadata": {
        "id": "5e75708b"
      },
      "source": [
        "## 3.\n",
        "write a program to input an integer 'n' and print the sum of all its even digits and the sum of all its odd digits separately.\n",
        "\n",
        "Digits mean numbers, not places! That is, if the given integer is \"132456\", even digits are 2, 4, and 6, and odd digits are 1, 3, and 5.\n",
        "\n",
        "\n",
        "Example :\n",
        "\n",
        "Input: 'n' = 132456\n",
        "Output: 12 9\n",
        "\n",
        "Explanation:\n",
        "\n",
        "The sum of even digits = 2 + 4 + 6 = 12\n",
        "The sum of odd digits = 1 + 3 + 5 = 9"
      ]
    },
    {
      "cell_type": "code",
      "execution_count": null,
      "id": "a9ce4062",
      "metadata": {
        "id": "a9ce4062"
      },
      "outputs": [],
      "source": [
        "n = 132456\n",
        "#n = input()\n",
        "sum_even = 0\n",
        "sum_odd = 0\n",
        "\n",
        "while n > 0:\n",
        "    digit = n % 10\n",
        "    if digit % 2 == 0:\n",
        "        sum_even = sum_even + digit\n",
        "    else:\n",
        "        sum_odd = sum_odd + digit\n",
        "    n = n//10"
      ]
    },
    {
      "cell_type": "code",
      "execution_count": null,
      "id": "1ea0b0a0",
      "metadata": {
        "id": "1ea0b0a0",
        "outputId": "fa1876b1-e2a7-45fb-f8c2-00e55e70c51b"
      },
      "outputs": [
        {
          "name": "stdout",
          "output_type": "stream",
          "text": [
            "Sum of even Numbers 12\n",
            "Sum of odd Numbers 9\n"
          ]
        }
      ],
      "source": [
        "print(\"Sum of even Numbers\",sum_even)\n",
        "print(\"Sum of odd Numbers\",sum_odd)"
      ]
    },
    {
      "cell_type": "markdown",
      "id": "0d34b21f",
      "metadata": {
        "id": "0d34b21f"
      },
      "source": [
        "## 4.\n",
        "Write a program that takes a number as input and prints all its factors except 1 and the number itself.. If the number has only two factors (1 and the number itself), then the program should print -1.\n",
        "\n",
        "\n",
        "Sample Input:\n",
        "8\n",
        "\n",
        "Sample Output:\n",
        "2 4\n",
        "\n",
        "Explanation of Sample Output 1 :\n",
        "The factors for the number excluding 1 and itself are 2 and 4, so the output is 2 4."
      ]
    },
    {
      "cell_type": "code",
      "execution_count": null,
      "id": "31ca4cb8",
      "metadata": {
        "id": "31ca4cb8",
        "outputId": "8d2d37b0-415f-46c5-badd-d561c1038700"
      },
      "outputs": [
        {
          "name": "stdout",
          "output_type": "stream",
          "text": [
            "[2, 4]\n"
          ]
        }
      ],
      "source": [
        "num = 8\n",
        "factors = []\n",
        "for i in range(1, num+1, 1):\n",
        "    if num % i == 0:\n",
        "        factors.append(i)\n",
        "\n",
        "n = len(factors)\n",
        "\n",
        "if n == 2:\n",
        "    print(-1)\n",
        "else:\n",
        "    print(factors[1:-1])"
      ]
    },
    {
      "cell_type": "markdown",
      "id": "b2b63c96",
      "metadata": {
        "id": "b2b63c96"
      },
      "source": [
        "## 5.\n",
        "\n",
        "Write a program to find x to the power n (i.e. x^n). Take x and n from the user. You need to print the answer.\n",
        "\n",
        "Note : For this question, you can assume that 0 raised to the power of 0 is 1\n",
        "\n",
        "Sample Input :\n",
        " 3 4\n",
        "\n",
        "Sample Output :\n",
        "81"
      ]
    },
    {
      "cell_type": "code",
      "execution_count": null,
      "id": "a3b3ac9f",
      "metadata": {
        "id": "a3b3ac9f",
        "outputId": "a9a82832-b5ae-4374-8a06-b32de5b28745"
      },
      "outputs": [
        {
          "name": "stdout",
          "output_type": "stream",
          "text": [
            "Enter the Number: 3\n",
            "Enter the power: 4\n"
          ]
        },
        {
          "data": {
            "text/plain": [
              "81"
            ]
          },
          "execution_count": 189,
          "metadata": {},
          "output_type": "execute_result"
        }
      ],
      "source": [
        "n = int(input(\"Enter the Number: \"))\n",
        "p = int(input(\"Enter the power: \"))\n",
        "pow(n,p)"
      ]
    },
    {
      "cell_type": "markdown",
      "id": "14fb6576",
      "metadata": {
        "id": "14fb6576"
      },
      "source": [
        "## 6.\n",
        "Write a program to generate the reverse of a given number N. Print the corresponding reverse number.\n",
        "\n",
        "Note : If a number has trailing zeros, then its reverse will not include them. For e.g., reverse of 10400 will be 401 instead of 00401.\n",
        "\n",
        "Sample Input 1 :\n",
        "1234\n",
        "\n",
        "Sample Output 1 :\n",
        "4321"
      ]
    },
    {
      "cell_type": "code",
      "execution_count": null,
      "id": "a614356d",
      "metadata": {
        "id": "a614356d",
        "outputId": "9ebaa0f8-32a1-4a81-f03d-0911890b46ca"
      },
      "outputs": [
        {
          "data": {
            "text/plain": [
              "4321"
            ]
          },
          "execution_count": 196,
          "metadata": {},
          "output_type": "execute_result"
        }
      ],
      "source": [
        "num = 1234\n",
        "# num = input(\"Enter the number\")\n",
        "\n",
        "reverse = 0\n",
        "while num > 0:\n",
        "    digit = num % 10\n",
        "    reverse = reverse * 10 + digit\n",
        "    num = num // 10\n",
        "\n",
        "reverse"
      ]
    },
    {
      "cell_type": "markdown",
      "id": "72ea63ce",
      "metadata": {
        "id": "72ea63ce"
      },
      "source": [
        "# Pattern"
      ]
    },
    {
      "cell_type": "markdown",
      "id": "277b7630",
      "metadata": {
        "id": "277b7630"
      },
      "source": [
        "<b>1.</b> Print the following pattern for the given N number of rows. <br>\n",
        "\n",
        "Pattern for N = 4<br>\n",
        "\n",
        "<pre>\n",
        "A\n",
        "\n",
        "BC\n",
        "\n",
        "CDE\n",
        "\n",
        "DEFG\n",
        "</pre>"
      ]
    },
    {
      "cell_type": "code",
      "execution_count": null,
      "id": "ff77b345",
      "metadata": {
        "id": "ff77b345",
        "outputId": "015b3d1c-521a-45a9-e04a-54dbc2f1f2ce"
      },
      "outputs": [
        {
          "name": "stdout",
          "output_type": "stream",
          "text": [
            "\n",
            "A\n",
            "BC\n",
            "DEF\n"
          ]
        }
      ],
      "source": [
        "n = 4\n",
        "# n = input(\"Enter the number: \")\n",
        "count = 0\n",
        "for i in range(n):\n",
        "    for j in range(i):\n",
        "        print(chr(65 + count), end =\"\")\n",
        "        count += 1\n",
        "    print(\"\")\n",
        "\n"
      ]
    },
    {
      "cell_type": "markdown",
      "id": "4cc94fdd",
      "metadata": {
        "id": "4cc94fdd"
      },
      "source": [
        "<b>2.</b> Print the following pattern for the given N number of rows.<br>\n",
        "\n",
        "Pattern for N = 4<br>\n",
        "<pre>\n",
        "1\n",
        "\n",
        "21\n",
        "\n",
        "321\n",
        "\n",
        "4321\n",
        "</pre>"
      ]
    },
    {
      "cell_type": "code",
      "execution_count": null,
      "id": "a7b3996d",
      "metadata": {
        "id": "a7b3996d",
        "outputId": "94b76e23-aed6-45ab-83b7-e91554ba23a6"
      },
      "outputs": [
        {
          "name": "stdout",
          "output_type": "stream",
          "text": [
            "1\n",
            "21\n",
            "321\n",
            "4321\n"
          ]
        }
      ],
      "source": [
        "n = 4\n",
        "# n = input(\"Enter the number: \")\n",
        "n += 1\n",
        "\n",
        "for i in range(1, n, 1):\n",
        "    for j in range(i, 0 , -1):\n",
        "        print(j, end=\"\")\n",
        "    print(\"\")"
      ]
    },
    {
      "cell_type": "markdown",
      "id": "183ba9b2",
      "metadata": {
        "id": "183ba9b2"
      },
      "source": [
        "<b>3.</b> Print the following pattern for the given N number of rows.<br>\n",
        "\n",
        "Pattern for N = 3<br>\n",
        " <pre>\n",
        " A\n",
        "    \n",
        " BB\n",
        "\n",
        " CCC\n",
        " </pre>"
      ]
    },
    {
      "cell_type": "code",
      "execution_count": null,
      "id": "5e586bd1",
      "metadata": {
        "id": "5e586bd1",
        "outputId": "b364c9bb-9d3b-4acb-c368-ff14fb30890e"
      },
      "outputs": [
        {
          "name": "stdout",
          "output_type": "stream",
          "text": [
            "\n",
            "A\n",
            "BB\n",
            "CCC\n"
          ]
        }
      ],
      "source": [
        "n = 4\n",
        "# n = input(\"Enter the number: \")\n",
        "count = 0\n",
        "for i in range(n):\n",
        "    for j in range(i):\n",
        "        print(chr(64 + count), end =\"\")\n",
        "    count += 1\n",
        "    print(\"\")"
      ]
    },
    {
      "cell_type": "markdown",
      "id": "6417e3b8",
      "metadata": {
        "id": "6417e3b8"
      },
      "source": [
        "<b>5.</b> Print the following pattern for the given number of rows.<br>\n",
        "\n",
        "Pattern for N = 5<br>\n",
        "<pre>\n",
        "E\n",
        "\n",
        "DE\n",
        "\n",
        "CDE\n",
        "\n",
        "BCDE\n",
        "\n",
        "ABCDE\n",
        "</pre>"
      ]
    },
    {
      "cell_type": "code",
      "execution_count": null,
      "id": "e0a76624",
      "metadata": {
        "id": "e0a76624",
        "outputId": "f1ef5358-1dea-47eb-c9e7-3a6f7280d721"
      },
      "outputs": [
        {
          "name": "stdout",
          "output_type": "stream",
          "text": [
            "E\n",
            "DE\n",
            "CDE\n",
            "BCDE\n",
            "ABCDE\n"
          ]
        }
      ],
      "source": [
        "#n = 5\n",
        "n = input(\"Enter the number: \")\n",
        "\n",
        "for i in range(1, n+1, 1):\n",
        "    for j in range(i, 0 , -1):\n",
        "        print(chr(65+n-j), end=\"\")\n",
        "    print(\"\")"
      ]
    },
    {
      "cell_type": "markdown",
      "id": "fdaa6b28",
      "metadata": {
        "id": "fdaa6b28"
      },
      "source": [
        "<b>6.</b> Write a program to print parallelogram pattern for the given N number of rows.<br>\n",
        "<pre>\n",
        "For N = 3\n",
        "***\n",
        " ***\n",
        "  ***\n",
        "</pre>"
      ]
    },
    {
      "cell_type": "code",
      "execution_count": null,
      "id": "9618955b",
      "metadata": {
        "id": "9618955b",
        "outputId": "d14348c1-f8be-4107-819c-b9753d82ab57"
      },
      "outputs": [
        {
          "name": "stdout",
          "output_type": "stream",
          "text": [
            "***\n",
            " ***\n",
            "  ***\n"
          ]
        }
      ],
      "source": [
        "#n = 3\n",
        "n = input(\"Enter the number: \")\n",
        "\n",
        "for i in range(n):\n",
        "    for k in range(i):\n",
        "        print(\" \", end=\"\")\n",
        "    for j in range(n):\n",
        "        print(\"*\",end=\"\")\n",
        "\n",
        "    print(\"\")"
      ]
    },
    {
      "cell_type": "markdown",
      "id": "e9d4ad52",
      "metadata": {
        "id": "e9d4ad52"
      },
      "source": [
        "<b>7.</b> Print the following pattern for the given N number of rows.<br>\n",
        "<pre>\n",
        "Pattern for N = 3\n",
        "      1\n",
        "     12\n",
        "    123\n",
        "</pre>"
      ]
    },
    {
      "cell_type": "code",
      "execution_count": null,
      "id": "d153ae53",
      "metadata": {
        "id": "d153ae53",
        "outputId": "8652652c-6751-4ec7-9182-3fcd611b174b"
      },
      "outputs": [
        {
          "name": "stdout",
          "output_type": "stream",
          "text": [
            "  1\n",
            " 12\n",
            "123\n"
          ]
        }
      ],
      "source": [
        "#n = 3\n",
        "n = input(\"Enter the number: \")\n",
        "for i in range(1, n+1, 1):\n",
        "    for k in range(i, n, 1):\n",
        "        print(\" \", end=\"\")\n",
        "    for j in range(1,i+1,1):\n",
        "        print(j, end=\"\")\n",
        "    print(\"\")"
      ]
    },
    {
      "cell_type": "markdown",
      "id": "7f2f7d02",
      "metadata": {
        "id": "7f2f7d02"
      },
      "source": [
        "<b>8.</b> Write a program to print the pattern for the given N number of rows.<br>\n",
        "<pre>\n",
        "For N = 4\n",
        "\n",
        "1357\n",
        "3571\n",
        "5713\n",
        "7135\n",
        "</pre>"
      ]
    },
    {
      "cell_type": "code",
      "execution_count": null,
      "id": "143abff7",
      "metadata": {
        "id": "143abff7",
        "outputId": "c1a5822f-a6ee-46be-a3b7-f6967e7479e0"
      },
      "outputs": [
        {
          "name": "stdout",
          "output_type": "stream",
          "text": [
            "1357\n",
            "3571\n",
            "5713\n",
            "7135\n"
          ]
        }
      ],
      "source": [
        "#n = 4\n",
        "n = input(\"Enter the number: \")\n",
        "count = 1\n",
        "num = 0\n",
        "multiplier = 1\n",
        "for i in range(n-1):\n",
        "    multiplier *= 10\n",
        "for i in range(n):\n",
        "    num = num * 10 + count\n",
        "    count += 2\n",
        "print(num)\n",
        "\n",
        "for i in range(n-1):\n",
        "    first_digit = num // multiplier\n",
        "    temp = (num%multiplier)*10 + first_digit\n",
        "    print(temp)\n",
        "    num = temp\n",
        ""
      ]
    }
  ],
  "metadata": {
    "kernelspec": {
      "display_name": "Python 3 (ipykernel)",
      "language": "python",
      "name": "python3"
    },
    "language_info": {
      "codemirror_mode": {
        "name": "ipython",
        "version": 3
      },
      "file_extension": ".py",
      "mimetype": "text/x-python",
      "name": "python",
      "nbconvert_exporter": "python",
      "pygments_lexer": "ipython3",
      "version": "3.11.3"
    },
    "colab": {
      "provenance": [],
      "collapsed_sections": [
        "fb511d7b"
      ],
      "include_colab_link": true
    }
  },
  "nbformat": 4,
  "nbformat_minor": 5
}