{
  "nbformat": 4,
  "nbformat_minor": 0,
  "metadata": {
    "colab": {
      "provenance": [],
      "authorship_tag": "ABX9TyPnesyt8yd6ZULWMv6q+XkT",
      "include_colab_link": true
    },
    "kernelspec": {
      "name": "python3",
      "display_name": "Python 3"
    },
    "language_info": {
      "name": "python"
    }
  },
  "cells": [
    {
      "cell_type": "markdown",
      "metadata": {
        "id": "view-in-github",
        "colab_type": "text"
      },
      "source": [
        "<a href=\"https://colab.research.google.com/github/deepakatAviSoft/deepak_avisoft/blob/main/29_01_2024.ipynb\" target=\"_parent\"><img src=\"https://colab.research.google.com/assets/colab-badge.svg\" alt=\"Open In Colab\"/></a>"
      ]
    },
    {
      "cell_type": "markdown",
      "source": [
        "<b>1.</b> Given an array/list(ARR) of length N, you need to find and return the sum of all the elements in the array/list.<br>\n",
        "\n",
        "<b>Sample Input 1:<br></b>\n",
        "3<br>\n",
        "9 8 9<br>\n",
        "<b>Sample Output 1:<br></b>\n",
        "26\n"
      ],
      "metadata": {
        "id": "LiJqB6i1KXfh"
      }
    },
    {
      "cell_type": "markdown",
      "source": [
        "<b>2.</b> Given an array/list 'ARR' of integers and a position ‘M’. You have to reverse the array after that position.<br>\n",
        "\n",
        "<b>Example:</b>\n",
        "We have an array ARR = {1, 2, 3, 4, 5, 6} and M = 3 ,<br>\n",
        "considering 0\n",
        "based indexing so the subarray {5, 6} will be reversed and our\n",
        "output array will be {1, 2, 3, 4, 6, 5}."
      ],
      "metadata": {
        "id": "WXwWm6GRKbBW"
      }
    },
    {
      "cell_type": "markdown",
      "source": [
        "<b>3.</b> You are given an arbitrary array ‘arr’ consisting of N non-negative integers, where every element appears thrice except one. You need to find the element that appears only once.<br>\n",
        "<b>Sample Input 1:</b><br>\n",
        "4<br>\n",
        "1 2 1 1<br>\n",
        "<b>Sample Output 1:</b><br>\n",
        "2"
      ],
      "metadata": {
        "id": "JppHufChKbt9"
      }
    },
    {
      "cell_type": "markdown",
      "source": [
        "<b>4.</b> You have been given an integer array/list(ARR) of size N. Where N is equal to [2M + 1].<br>\n",
        "Now, in the given array/list, 'M' numbers are present twice and one number is present only once.<br>\n",
        "You need to find and return that number which is unique in the array/list.<br>\n",
        "Note:<br>\n",
        "Unique element is always present in the array/list according to the given condition.<br>\n",
        "<b>Sample Input 1:</b><br>\n",
        "7<br>\n",
        "2 3 1 6 3 6 2<br>\n",
        "<b>Sample Output 1:</b><br>\n",
        "1<br>\n",
        "<b>Explanation:</b> The array is [2, 3, 1, 6, 3, 6, 2]. Here, the numbers 2, 3, and 6 are present twice, and the number 1 is present only once. So, the unique number in this array is 1."
      ],
      "metadata": {
        "id": "XdyfzkuMKfL1"
      }
    },
    {
      "cell_type": "markdown",
      "source": [
        "<b>5.</b> You are given a number ‘N’ and a query ‘Q.’ If ‘Q’ is 1, then you have to return the sum of all integers from 1 to ‘N,’ else if ‘Q’ is equal to 2 then you have to return the product of all integers from 1 to ‘N.’ Since the product can be very large, return it modulo 10 ^ 9 + 7.<br>\n",
        "For example<br>\n",
        "Given <b>‘N’</b> = 4, <b>‘Q’ </b>= 1. <br>\n",
        "Then the answer is 10 because the sum of all integers between 1 and 4 are 1, 2, 3, and 4. Hence 1 + 2 + 3 + 4 is equal to 10.<br>\n",
        "<b>Sample Input 1 :</b><br>\n",
        "2<br>\n",
        "4 1 <br>\n",
        "4 2<br>\n",
        "<b>Sample Output 1 :</b><br>\n",
        "10<br>\n",
        "24 <br>\n",
        "<b>Explanation of the Sample Input 1:</b><br>\n",
        "In the first test case, the answer is 10 because all integers between 1 and 4 are 1, 2, 3, and 4. Hence 1 + 2 + 3 + 4 is equal to 10.<br>\n",
        "In the second test case, the answer is 25 because all integers between 1 and 4 are 1, 2, 3, and 4. Hence 1 * 2 * 3 * 4 is equal to 24.<br>"
      ],
      "metadata": {
        "id": "TYQsaRV1KjfQ"
      }
    },
    {
      "cell_type": "code",
      "source": [],
      "metadata": {
        "id": "pJGzin49Kn62"
      },
      "execution_count": null,
      "outputs": []
    }
  ]
}