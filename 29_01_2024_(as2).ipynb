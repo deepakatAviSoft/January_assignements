{
  "nbformat": 4,
  "nbformat_minor": 0,
  "metadata": {
    "colab": {
      "provenance": [],
      "authorship_tag": "ABX9TyP6PoNCMp9YqEbx5uIGxOID",
      "include_colab_link": true
    },
    "kernelspec": {
      "name": "python3",
      "display_name": "Python 3"
    },
    "language_info": {
      "name": "python"
    }
  },
  "cells": [
    {
      "cell_type": "markdown",
      "metadata": {
        "id": "view-in-github",
        "colab_type": "text"
      },
      "source": [
        "<a href=\"https://colab.research.google.com/github/deepakatAviSoft/deepak_avisoft/blob/main/29_01_2024_(as2)_(ChatGpt).ipynb\" target=\"_parent\"><img src=\"https://colab.research.google.com/assets/colab-badge.svg\" alt=\"Open In Colab\"/></a>"
      ]
    },
    {
      "cell_type": "code",
      "execution_count": 3,
      "metadata": {
        "id": "uVNPuRFDvhsE",
        "colab": {
          "base_uri": "https://localhost:8080/"
        },
        "outputId": "67a4a161-1a11-4cdd-eeb5-1638d20bfd22"
      },
      "outputs": [
        {
          "output_type": "stream",
          "name": "stdout",
          "text": [
            "Triplets with sum 12 are: [[2, 5, 5]]\n"
          ]
        }
      ],
      "source": [
        "#1\n",
        "def find_triplets(arr, K):\n",
        "    arr.sort()\n",
        "    triplets = []\n",
        "\n",
        "    for i in range(len(arr) - 2):\n",
        "        if i > 0 and arr[i] == arr[i - 1]:\n",
        "            continue\n",
        "\n",
        "        left, right = i + 1, len(arr) - 1\n",
        "\n",
        "        while left < right:\n",
        "            current_sum = arr[i] + arr[left] + arr[right]\n",
        "\n",
        "            if current_sum == K:\n",
        "                triplets.append([arr[i], arr[left], arr[right]])\n",
        "\n",
        "                # Skip identical elements to avoid duplicate triplets\n",
        "                while left < right and arr[left] == arr[left + 1]:\n",
        "                    left += 1\n",
        "                while left < right and arr[right] == arr[right - 1]:\n",
        "                    right -= 1\n",
        "\n",
        "                left += 1\n",
        "                right -= 1\n",
        "\n",
        "            elif current_sum < K:\n",
        "                left += 1\n",
        "            else:\n",
        "                right -= 1\n",
        "\n",
        "    return triplets if triplets else -1\n",
        "\n",
        "# Example usage:\n",
        "arr = [110, 5, 5, 5, 2]\n",
        "K = 12\n",
        "result = find_triplets(arr, K)\n",
        "\n",
        "if result != -1:\n",
        "    print(\"Triplets with sum\", K, \"are:\", result)\n",
        "else:\n",
        "    print(\"No triplet found with sum\", K)\n"
      ]
    },
    {
      "cell_type": "markdown",
      "source": [
        "#2 [Problem](https://www.codingninjas.com/studio/problems/remove-duplicates-from-sorted-array_1102307)"
      ],
      "metadata": {
        "id": "rjmmOGPHnreB"
      }
    },
    {
      "cell_type": "code",
      "source": [
        "def remove_duplicates(arr):\n",
        "    n = len(arr)\n",
        "\n",
        "    if n == 0 or n == 1:\n",
        "        return n\n",
        "\n",
        "    # Initialize the index for the unique elements\n",
        "    unique_index = 0\n",
        "\n",
        "    for i in range(1, n):\n",
        "        # If the current element is different from the previous one, update the array\n",
        "        if arr[i] != arr[unique_index]:\n",
        "            unique_index += 1\n",
        "            arr[unique_index] = arr[i]\n",
        "\n",
        "    # The length of the new array is one more than the index of the last unique element\n",
        "    return unique_index + 1\n",
        "\n",
        "# Sample Input 1:\n",
        "arr1 = [1, 2, 2, 3, 3, 3, 4, 4, 5, 5]\n",
        "result1 = remove_duplicates(arr1)\n",
        "print(\"Sample Output 1:\", result1)\n"
      ],
      "metadata": {
        "colab": {
          "base_uri": "https://localhost:8080/"
        },
        "id": "WP5P1tz5nrk-",
        "outputId": "7677f769-e81d-4d6f-8a40-3ce0605ca9ae"
      },
      "execution_count": 8,
      "outputs": [
        {
          "output_type": "stream",
          "name": "stdout",
          "text": [
            "Sample Output 1: 5\n"
          ]
        }
      ]
    },
    {
      "cell_type": "markdown",
      "source": [
        "#3 [Problem](https://www.codingninjas.com/studio/problems/missing-and-repeating-numbers_873366)\n",
        "\n",
        "This code first uses Floyd's Tortoise and Hare algorithm to find the meeting point in the cycle. Then, it resets one of the pointers to the starting point and moves both pointers until they meet again, which is the starting point of the cycle. The missing and repeating numbers are then found based on the meeting point and the cycle starting point. The time complexity is O(N) and the space complexity is O(1)."
      ],
      "metadata": {
        "id": "YuQ7snVrmPqR"
      }
    },
    {
      "cell_type": "code",
      "source": [
        "def find_missing_and_repeating(arr):\n",
        "    n = len(arr)\n",
        "\n",
        "    # Phase 1: Detect the meeting point using Floyd's Tortoise and Hare algorithm\n",
        "    tortoise = arr[0]\n",
        "    hare = arr[0]\n",
        "\n",
        "    while True:\n",
        "        tortoise = arr[tortoise - 1]\n",
        "        hare = arr[arr[hare - 1] - 1]\n",
        "\n",
        "        if tortoise == hare:\n",
        "            break\n",
        "\n",
        "    # Phase 2: Find the starting point of the cycle\n",
        "    tortoise = arr[0]\n",
        "\n",
        "    while tortoise != hare:\n",
        "        tortoise = arr[tortoise - 1]\n",
        "        hare = arr[hare - 1]\n",
        "\n",
        "    # The hare and tortoise have met at the starting point of the cycle\n",
        "    repeating_number = hare\n",
        "\n",
        "    # Find the missing number\n",
        "    for i in range(1, n + 1):\n",
        "        if i not in arr:\n",
        "            missing_number = i\n",
        "            break\n",
        "\n",
        "    return missing_number, repeating_number\n",
        "\n",
        "# Example usage:\n",
        "arr = [6, 4, 3, 5, 5, 1]\n",
        "missing, repeating = find_missing_and_repeating(arr)\n",
        "print(\"Missing Number:\", missing)\n",
        "print(\"Repeating Number:\", repeating)\n"
      ],
      "metadata": {
        "colab": {
          "base_uri": "https://localhost:8080/"
        },
        "id": "PcV6pYj4mPwm",
        "outputId": "4972c8e6-e397-4f01-88ce-26a74fdf4e56"
      },
      "execution_count": 7,
      "outputs": [
        {
          "output_type": "stream",
          "name": "stdout",
          "text": [
            "Missing Number: 2\n",
            "Repeating Number: 6\n"
          ]
        }
      ]
    },
    {
      "cell_type": "markdown",
      "source": [
        "#4 [Problem Explanation](https://www.codingninjas.com/studio/problem-details/product-of-array-except-self_630271)\n",
        "\n"
      ],
      "metadata": {
        "id": "cE3qTCF7kwVq"
      }
    },
    {
      "cell_type": "code",
      "source": [
        "MOD = 10**9 + 7\n",
        "\n",
        "def product_except_self(arr):\n",
        "    n = len(arr)\n",
        "\n",
        "    total_product = 1\n",
        "    zero_count = 0\n",
        "\n",
        "    for num in arr:\n",
        "        if num != 0:\n",
        "            total_product = (total_product * num) % MOD\n",
        "        else:\n",
        "            zero_count += 1\n",
        "\n",
        "    product = [0] * n\n",
        "\n",
        "    for i in range(n):\n",
        "        if zero_count > 1:\n",
        "            product[i] = 0\n",
        "        elif zero_count == 1 and arr[i] == 0:\n",
        "            product[i] = total_product\n",
        "        elif zero_count == 0:\n",
        "            product[i] = (total_product * pow(arr[i], MOD - 2, MOD)) % MOD  # Using modular inverse for division\n",
        "\n",
        "    return product\n",
        "\n",
        "# Sample Input 1:\n",
        "test_cases = 2\n",
        "test_data = [\n",
        "    [1, 2, 3],\n",
        "    [5, 2, 2]\n",
        "]\n",
        "\n",
        "# Sample Output 1:\n",
        "for i in range(test_cases):\n",
        "    result = product_except_self(test_data[i])\n",
        "    print(\" \".join(map(str, result)))\n"
      ],
      "metadata": {
        "colab": {
          "base_uri": "https://localhost:8080/"
        },
        "id": "dSAH1Y_dkwa5",
        "outputId": "7433f558-6a36-4b00-f849-59e132b8f3d2"
      },
      "execution_count": 6,
      "outputs": [
        {
          "output_type": "stream",
          "name": "stdout",
          "text": [
            "6 3 2\n",
            "4 10 10\n"
          ]
        }
      ]
    },
    {
      "cell_type": "markdown",
      "source": [
        "**5** [Problem](https://www.codingninjas.com/studio/problems/sum-of-infinite-array_873335)"
      ],
      "metadata": {
        "id": "pdWrSaHhj58V"
      }
    },
    {
      "cell_type": "code",
      "source": [],
      "metadata": {
        "id": "M1tBHSocj6Bp"
      },
      "execution_count": 5,
      "outputs": []
    },
    {
      "cell_type": "markdown",
      "source": [
        "**6** [Problem](https://www.codingninjas.com/studio/problems/sum-of-two-arrays_893186)"
      ],
      "metadata": {
        "id": "DzFfljztjODi"
      }
    },
    {
      "cell_type": "code",
      "source": [
        "def sum_of_two_arrays(arr1, arr2):\n",
        "    result = []\n",
        "    carry = 0\n",
        "\n",
        "    # Make both arrays of equal length by adding leading zeros\n",
        "    len1, len2 = len(arr1), len(arr2)\n",
        "    max_len = max(len1, len2)\n",
        "    arr1 = [0] * (max_len - len1) + arr1\n",
        "    arr2 = [0] * (max_len - len2) + arr2\n",
        "\n",
        "    # Iterate from right to left, simulating addition\n",
        "    for i in range(max_len - 1, -1, -1):\n",
        "        current_sum = arr1[i] + arr2[i] + carry\n",
        "        result.insert(0, current_sum % 10)  # Insert at the beginning to maintain order\n",
        "        carry = current_sum // 10\n",
        "\n",
        "    if carry:\n",
        "        result.insert(0, carry)\n",
        "\n",
        "    return result\n",
        "\n",
        "# Sample Input 1:\n",
        "test_cases = 2\n",
        "test_data = [\n",
        "    ([1, 2, 3, 4], [6]),\n",
        "    ([1, 2, 3], [9, 9])\n",
        "]\n",
        "\n",
        "# Sample Output 1:\n",
        "for i in range(test_cases):\n",
        "    arr1, arr2 = test_data[i]\n",
        "    result = sum_of_two_arrays(arr1, arr2)\n",
        "    print(result)\n"
      ],
      "metadata": {
        "colab": {
          "base_uri": "https://localhost:8080/"
        },
        "id": "7VCv5HjhjOKW",
        "outputId": "98135dae-747b-473f-d22c-0d3508007e4b"
      },
      "execution_count": 1,
      "outputs": [
        {
          "output_type": "stream",
          "name": "stdout",
          "text": [
            "[1, 2, 4, 0]\n",
            "[2, 2, 2]\n"
          ]
        }
      ]
    },
    {
      "cell_type": "markdown",
      "source": [
        "**7** [Problem](https://www.codingninjas.com/studio/problems/k-largest-element_1062624)"
      ],
      "metadata": {
        "id": "QlJkKD89if6a"
      }
    },
    {
      "cell_type": "code",
      "source": [
        "def k_largest_elements(arr, k):\n",
        "    sorted_arr = sorted(arr, reverse=True)\n",
        "    result = sorted_arr[:k]\n",
        "    return result\n",
        "\n",
        "# Sample Input 1:\n",
        "test_cases = 2\n",
        "test_data = [\n",
        "    (4, 2, [3, 4, 2, 1]),\n",
        "    (5, 1, [2, 2, 3, 3, 1])\n",
        "]\n",
        "\n",
        "# Sample Output 1:\n",
        "for i in range(test_cases):\n",
        "    n, k, arr = test_data[i]\n",
        "    result = k_largest_elements(arr, k)\n",
        "    print(result)\n"
      ],
      "metadata": {
        "colab": {
          "base_uri": "https://localhost:8080/"
        },
        "id": "FgR-T8ktigE4",
        "outputId": "d5fc3205-fcfb-4d44-eab7-98e0494e76eb"
      },
      "execution_count": 4,
      "outputs": [
        {
          "output_type": "stream",
          "name": "stdout",
          "text": [
            "[4, 3]\n",
            "[3]\n"
          ]
        }
      ]
    },
    {
      "cell_type": "markdown",
      "source": [
        "**8** [Problem](https://www.codingninjas.com/studio/problems/merge-k-sorted-arrays_975379)"
      ],
      "metadata": {
        "id": "-D2L_3AgFaM-"
      }
    },
    {
      "cell_type": "code",
      "source": [],
      "metadata": {
        "id": "RmuxU9mSFabM"
      },
      "execution_count": 10,
      "outputs": []
    },
    {
      "cell_type": "markdown",
      "source": [
        "**#9** [CodingNinja](https://www.codingninjas.com/studio/library/longest-consecutive-sequence)\n",
        "[GitHub](https://github.com/doocs/leetcode/blob/main/solution/0100-0199/0128.Longest%20Consecutive%20Sequence/README_EN.md)"
      ],
      "metadata": {
        "id": "Ss4f6uNqEOAt"
      }
    },
    {
      "cell_type": "code",
      "source": [],
      "metadata": {
        "colab": {
          "base_uri": "https://localhost:8080/"
        },
        "id": "jEUzFEGTEOMb",
        "outputId": "b6ea3858-68bb-44e1-e09b-00c96e1ba5b2"
      },
      "execution_count": 11,
      "outputs": [
        {
          "output_type": "stream",
          "name": "stdout",
          "text": [
            "Sample Output 1: 3\n"
          ]
        }
      ]
    },
    {
      "cell_type": "markdown",
      "source": [
        "**#10** [Problem](https://www.codingninjas.com/studio/problems/selection-sort_981162)"
      ],
      "metadata": {
        "id": "jc5o9hEmDrgg"
      }
    },
    {
      "cell_type": "code",
      "source": [
        "def selection_sort(arr):\n",
        "    n = len(arr)\n",
        "\n",
        "    for i in range(n):\n",
        "        min_index = i\n",
        "\n",
        "        # Find the minimum element in the unsorted part of the array\n",
        "        for j in range(i + 1, n):\n",
        "            if arr[j] < arr[min_index]:\n",
        "                min_index = j\n",
        "\n",
        "        # Swap the found minimum element with the first element\n",
        "        arr[i], arr[min_index] = arr[min_index], arr[i]\n",
        "\n",
        "# Sample Input 1:\n",
        "arr1 = [6, 2, 8, 4, 10]\n",
        "selection_sort(arr1)\n",
        "print(\"Sample Output 1:\", arr1)\n"
      ],
      "metadata": {
        "colab": {
          "base_uri": "https://localhost:8080/"
        },
        "id": "cEVdpb1oDq4P",
        "outputId": "ada1db03-a336-4810-95ef-7b50bf6e4023"
      },
      "execution_count": 9,
      "outputs": [
        {
          "output_type": "stream",
          "name": "stdout",
          "text": [
            "Sample Output 1: [2, 4, 6, 8, 10]\n"
          ]
        }
      ]
    },
    {
      "cell_type": "markdown",
      "source": [
        "**#11** [Problem](https://www.codingninjas.com/studio/problems/merge-sort_920442)"
      ],
      "metadata": {
        "id": "AIZFY7KhCjwC"
      }
    },
    {
      "cell_type": "code",
      "source": [
        "def merge_sort(arr):\n",
        "    if len(arr) > 1:\n",
        "        mid = len(arr) // 2\n",
        "        left_half = arr[:mid]\n",
        "        right_half = arr[mid:]\n",
        "\n",
        "        merge_sort(left_half)\n",
        "        merge_sort(right_half)\n",
        "\n",
        "        i = j = k = 0\n",
        "\n",
        "        while i < len(left_half) and j < len(right_half):\n",
        "            if left_half[i] < right_half[j]:\n",
        "                arr[k] = left_half[i]\n",
        "                i += 1\n",
        "            else:\n",
        "                arr[k] = right_half[j]\n",
        "                j += 1\n",
        "            k += 1\n",
        "\n",
        "        while i < len(left_half):\n",
        "            arr[k] = left_half[i]\n",
        "            i += 1\n",
        "            k += 1\n",
        "\n",
        "        while j < len(right_half):\n",
        "            arr[k] = right_half[j]\n",
        "            j += 1\n",
        "            k += 1\n",
        "\n",
        "# Sample Input 1:\n",
        "arr1 = [3, 4, 1, 6, 2, 5, 7]\n",
        "merge_sort(arr1)\n",
        "print(\"Sample Output 1:\", arr1)\n",
        "\n",
        "# Sample Input 2:\n",
        "arr2 = [4, 3, 1, 2]\n",
        "merge_sort(arr2)\n",
        "print(\"Sample Output 2:\", arr2)\n"
      ],
      "metadata": {
        "colab": {
          "base_uri": "https://localhost:8080/"
        },
        "id": "vVcbLuxVDY_0",
        "outputId": "58bf1bb5-675b-460c-e88e-5158107f921d"
      },
      "execution_count": 9,
      "outputs": [
        {
          "output_type": "stream",
          "name": "stdout",
          "text": [
            "Sample Output 1: [1, 2, 3, 4, 5, 6, 7]\n",
            "Sample Output 2: [1, 2, 3, 4]\n"
          ]
        }
      ]
    },
    {
      "cell_type": "markdown",
      "source": [
        "**#12** [Problem](https://www.codingninjas.com/studio/problems/insertion-sort_3155179)"
      ],
      "metadata": {
        "id": "4HdrNBJJBoHZ"
      }
    },
    {
      "cell_type": "code",
      "source": [
        "def insertion_sort(arr):\n",
        "    for i in range(1, len(arr)):\n",
        "        key = arr[i]\n",
        "        j = i - 1\n",
        "\n",
        "        while j >= 0 and key < arr[j]:\n",
        "            arr[j + 1] = arr[j]\n",
        "            j -= 1\n",
        "\n",
        "        arr[j + 1] = key\n",
        "\n",
        "# Sample Input 1:\n",
        "arr1 = [3, 1, 2, 2]\n",
        "insertion_sort(arr1)\n",
        "print(\"Sample Output 1:\", arr1)\n",
        "\n",
        "arr2 = [1, 4, 2]\n",
        "insertion_sort(arr2)\n",
        "print(\"Sample Output 2:\", arr2)\n",
        "\n",
        "# Sample Input 2:\n",
        "arr3 = [4, 12, 11, 20]\n",
        "insertion_sort(arr3)\n",
        "print(\"Sample Output 3:\", arr3)\n",
        "\n",
        "arr4 = [6, 5, 4, 3, 2, 1]\n",
        "insertion_sort(arr4)\n",
        "print(\"Sample Output 4:\", arr4)\n"
      ],
      "metadata": {
        "colab": {
          "base_uri": "https://localhost:8080/"
        },
        "id": "SZX81UfbCN-v",
        "outputId": "39a71b8e-b973-4f2b-bf06-af01355f62a4"
      },
      "execution_count": 8,
      "outputs": [
        {
          "output_type": "stream",
          "name": "stdout",
          "text": [
            "Sample Output 1: [1, 2, 2, 3]\n",
            "Sample Output 2: [1, 2, 4]\n",
            "Sample Output 3: [4, 11, 12, 20]\n",
            "Sample Output 4: [1, 2, 3, 4, 5, 6]\n"
          ]
        }
      ]
    },
    {
      "cell_type": "markdown",
      "source": [
        "**#13** [Problem](https://www.codingninjas.com/studio/problems/algorithm-to-find-best-insert-position-in-sorted-array_839813)"
      ],
      "metadata": {
        "id": "2Ugo27iYAqY3"
      }
    },
    {
      "cell_type": "code",
      "source": [
        "def search_insert_position(arr, m):\n",
        "    left, right = 0, len(arr) - 1\n",
        "\n",
        "    while left <= right:\n",
        "        mid = (left + right) // 2\n",
        "\n",
        "        if arr[mid] == m:\n",
        "            return mid\n",
        "        elif arr[mid] < m:\n",
        "            left = mid + 1\n",
        "        else:\n",
        "            right = mid - 1\n",
        "\n",
        "    return left\n",
        "\n",
        "# Sample Input 1:\n",
        "arr1 = [1, 2, 4, 7]\n",
        "m1 = 9\n",
        "result1 = search_insert_position(arr1, m1)\n",
        "print(\"Sample Output 1:\", result1)\n",
        "\n",
        "# Sample Input 2:\n",
        "arr2 = [2, 5, 7]\n",
        "m2 = 1\n",
        "result2 = search_insert_position(arr2, m2)\n",
        "print(\"Sample Output 2:\", result2)\n",
        "\n",
        "# Sample Input 3:\n",
        "arr3 = [1, 2, 4, 7]\n",
        "m3 = 2\n",
        "result3 = search_insert_position(arr3, m3)\n",
        "print(\"Sample Output 3:\", result3)\n"
      ],
      "metadata": {
        "colab": {
          "base_uri": "https://localhost:8080/"
        },
        "id": "bRx4CGjPAlXA",
        "outputId": "0f1a9598-e478-4ed8-9615-b4bbeaf8ee87"
      },
      "execution_count": 7,
      "outputs": [
        {
          "output_type": "stream",
          "name": "stdout",
          "text": [
            "Sample Output 1: 4\n",
            "Sample Output 2: 0\n",
            "Sample Output 3: 1\n"
          ]
        }
      ]
    },
    {
      "cell_type": "markdown",
      "source": [
        "**14**\n",
        "[Problem](https://www.codingninjas.com/studio/problems/bubble-sort_980524)"
      ],
      "metadata": {
        "id": "gZ6d8LN7_Trs"
      }
    },
    {
      "cell_type": "code",
      "source": [
        "def bubble_sort(arr):\n",
        "    n = len(arr)\n",
        "\n",
        "    for i in range(n):\n",
        "        # Last i elements are already in place, no need to check them\n",
        "        for j in range(0, n - i - 1):\n",
        "            if arr[j] > arr[j + 1]:\n",
        "                # Swap the elements if they are in the wrong order\n",
        "                arr[j], arr[j + 1] = arr[j + 1], arr[j]\n",
        "\n",
        "# Sample Input 1:\n",
        "arr1 = [6, 2, 8, 4, 10]\n",
        "bubble_sort(arr1)\n",
        "print(\"Sample Output 1:\", arr1)\n",
        "\n",
        "# Sample Input 2:\n",
        "arr2 = [1, 2]\n",
        "bubble_sort(arr2)\n",
        "print(\"Sample Output 2:\", arr2)\n",
        "\n",
        "arr3 = [4, 3, 2, 1]\n",
        "bubble_sort(arr3)\n",
        "print(\"Sample Output 3:\", arr3)\n"
      ],
      "metadata": {
        "colab": {
          "base_uri": "https://localhost:8080/"
        },
        "id": "qM0dLYWg_UCW",
        "outputId": "d7a347a9-7592-453c-d510-536694cefc8d"
      },
      "execution_count": 6,
      "outputs": [
        {
          "output_type": "stream",
          "name": "stdout",
          "text": [
            "Sample Output 1: [2, 4, 6, 8, 10]\n",
            "Sample Output 2: [1, 2]\n",
            "Sample Output 3: [1, 2, 3, 4]\n"
          ]
        }
      ]
    },
    {
      "cell_type": "markdown",
      "source": [
        "**15** You can solve this problem using recursion and backtracking to try all <br>possible combinations of adding '+' or '-' before each integer. Here's a <br>Python code for this problem:\n",
        "[Problem](https://www.codingninjas.com/studio/problems/target-sum_4127362)"
      ],
      "metadata": {
        "id": "BbjE1JX9-rE6"
      }
    },
    {
      "cell_type": "code",
      "source": [
        "def count_ways_to_target(arr, target):\n",
        "    def backtrack(index, current_sum):\n",
        "        nonlocal count\n",
        "        if index == len(arr):\n",
        "            if current_sum == target:\n",
        "                count += 1\n",
        "            return\n",
        "\n",
        "        # Try adding '+'\n",
        "        backtrack(index + 1, current_sum + arr[index])\n",
        "\n",
        "        # Try adding '-'\n",
        "        backtrack(index + 1, current_sum - arr[index])\n",
        "\n",
        "    count = 0\n",
        "    backtrack(0, 0)\n",
        "    return count\n",
        "\n",
        "# Example usage:\n",
        "arr = [1, 1, 1, 1, 1]\n",
        "target = 3\n",
        "result = count_ways_to_target(arr, target)\n",
        "\n",
        "print(\"Number of ways to achieve the target:\", result)\n"
      ],
      "metadata": {
        "colab": {
          "base_uri": "https://localhost:8080/"
        },
        "id": "kuVbCi8c-1zY",
        "outputId": "fe461cea-d753-4fe2-d940-5cf40ca0085a"
      },
      "execution_count": 5,
      "outputs": [
        {
          "output_type": "stream",
          "name": "stdout",
          "text": [
            "Number of ways to achieve the target: 5\n"
          ]
        }
      ]
    },
    {
      "cell_type": "code",
      "source": [],
      "metadata": {
        "id": "5CiJXTYn-8bT"
      },
      "execution_count": null,
      "outputs": []
    }
  ]
}
