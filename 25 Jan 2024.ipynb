{
 "cells": [
  {
   "cell_type": "code",
   "execution_count": 10,
   "id": "3ea7ec56",
   "metadata": {},
   "outputs": [],
   "source": [
    "add = lambda x,y : x+y "
   ]
  },
  {
   "cell_type": "code",
   "execution_count": 12,
   "id": "67dea5d9",
   "metadata": {},
   "outputs": [
    {
     "data": {
      "text/plain": [
       "3"
      ]
     },
     "execution_count": 12,
     "metadata": {},
     "output_type": "execute_result"
    }
   ],
   "source": [
    "add(1,2)"
   ]
  },
  {
   "cell_type": "code",
   "execution_count": 13,
   "id": "5fa3232f",
   "metadata": {},
   "outputs": [],
   "source": [
    "multiply = lambda x,y : x*y\n",
    "\n",
    "\n",
    "\n"
   ]
  },
  {
   "cell_type": "code",
   "execution_count": 35,
   "id": "8af18152",
   "metadata": {},
   "outputs": [
    {
     "name": "stdout",
     "output_type": "stream",
     "text": [
      "0\n",
      "12\n",
      "345\n",
      "6789\n"
     ]
    }
   ],
   "source": [
    "n = 1\n",
    "count = 0\n",
    "for i in range(4):\n",
    "    for j in range(n):\n",
    "        print(count, end=\"\")\n",
    "        count += 1\n",
    "    n += 1\n",
    "        \n",
    "    print(\"\")"
   ]
  },
  {
   "cell_type": "code",
   "execution_count": 38,
   "id": "1718fdd0",
   "metadata": {},
   "outputs": [
    {
     "name": "stdout",
     "output_type": "stream",
     "text": [
      "5\n"
     ]
    },
    {
     "data": {
      "text/plain": [
       "120"
      ]
     },
     "execution_count": 38,
     "metadata": {},
     "output_type": "execute_result"
    }
   ],
   "source": [
    "def fact(n):\n",
    "    if n == 0 or n == 1:\n",
    "        return 1\n",
    "    else:\n",
    "        return n * fact(n-1)\n",
    "    \n",
    "n = int(input())\n",
    "fact(n)"
   ]
  },
  {
   "cell_type": "code",
   "execution_count": 39,
   "id": "e9ed0446",
   "metadata": {},
   "outputs": [],
   "source": [
    "#piramid pattren"
   ]
  },
  {
   "cell_type": "code",
   "execution_count": 98,
   "id": "2ce58631",
   "metadata": {},
   "outputs": [
    {
     "name": "stdout",
     "output_type": "stream",
     "text": [
      "5\n",
      "    1 \n",
      "   2 3 \n",
      "  4 5 6 \n",
      " 7 8 9 10 \n",
      "11 12 13 14 15 \n"
     ]
    }
   ],
   "source": [
    "#pattern printing\n",
    "n = int(input())\n",
    "spaces = n-1\n",
    "count = 1\n",
    "bucket1 = []\n",
    "bucket2 = []\n",
    "bucket3 = []\n",
    "for i in range(1, n+1, 1):\n",
    "    bucket1.append(i)\n",
    "    for space in range(spaces-i+1, 0, -1):\n",
    "        print(\" \", end = \"\")\n",
    "        bucket2.append(space)\n",
    "    for num in range(1, i+1, 1):\n",
    "        print(count, end = \" \" )\n",
    "        count += 1\n",
    "        bucket3.append(num)\n",
    "    \n",
    "    print()\n",
    "    "
   ]
  },
  {
   "cell_type": "markdown",
   "id": "1883c503",
   "metadata": {},
   "source": [
    "# Assignment 1"
   ]
  },
  {
   "cell_type": "markdown",
   "id": "ccfa4457",
   "metadata": {},
   "source": [
    "# 1. \n",
    "Given an array 'arr' containing 'n' elements, rotate this array left once and return it.\n",
    "Rotating the array left by one means shifting all elements by one place to the left and moving the first element to the last position in the array.\n",
    "\n",
    "\n",
    "Example:\n",
    "\n",
    "Input: 'a' = 5, 'arr' = [1, 2, 3, 4, 5]\n",
    "Output: [2, 3, 4, 5, 1]\n",
    "\n",
    "Explanation: We moved the 2nd element to the 1st position, and 3rd element to the 2nd position, and 4th element to the 3rd position, and the 5th element to the 4th position, and move the 1st element to the 5th position."
   ]
  },
  {
   "cell_type": "code",
   "execution_count": 108,
   "id": "b07d2567",
   "metadata": {},
   "outputs": [
    {
     "data": {
      "text/plain": [
       "[5, 1, 2, 3, 4]"
      ]
     },
     "execution_count": 108,
     "metadata": {},
     "output_type": "execute_result"
    }
   ],
   "source": [
    "arr = [1,2,3,4,5]\n",
    "a = 5 #number of elements in the array\n",
    "\n",
    "last_element = arr[a-1]\n",
    "arr.pop(a-1)\n",
    "arr.insert(0,a)\n",
    "\n",
    "\n",
    "arr #output"
   ]
  },
  {
   "cell_type": "markdown",
   "id": "37dce1f6",
   "metadata": {},
   "source": [
    "# 2.\n",
    "You are given an array 'arr' of length 'n', consisting of integers.\n",
    "A subarray is a contiguous segment of an array. In other words, a subarray can be formed by removing 0 or more integers from the beginning and 0 or more integers from the end of an array.\n",
    "Find the sum of the subarray (including empty subarray) having maximum sum among all subarrays.\n",
    "The sum of an empty subarray is 0.\n",
    "\n",
    "\n",
    "Example :\n",
    "\n",
    "Input: 'arr' = [1, 2, 7, -4, 3, 2, -10, 9, 1]\n",
    "\n",
    "\n",
    "Output: 11\n",
    "\n",
    "\n",
    "Explanation: The subarray yielding the maximum sum is [1, 2, 7, -4, 3, 2]."
   ]
  },
  {
   "cell_type": "code",
   "execution_count": 112,
   "id": "33572b4c",
   "metadata": {},
   "outputs": [],
   "source": [
    "arr = [1, 2, 7, -4, 3, 2, -10, 9, 1]\n",
    "n = len(arr)"
   ]
  },
  {
   "cell_type": "code",
   "execution_count": 126,
   "id": "8dbbf796",
   "metadata": {},
   "outputs": [],
   "source": [
    "bucket1 = []\n",
    "bucket2 = []\n",
    "for i in range(n):\n",
    "    #print(arr[0:i])\n",
    "    bucket1.append(sum(arr[0:i]))\n",
    "    \n",
    "for i in range(n):\n",
    "    #print(arr[i:n])\n",
    "    bucket2.append(sum(arr[i:n]))\n",
    "\n",
    "max_from_bucket1 = max(bucket1)\n",
    "max_from_bucket2 = max(bucket2)\n",
    "\n",
    "if max_from_bucket1 > max_from_bucket2:\n",
    "    max_sum = max_from_bucket1\n",
    "else:\n",
    "    max_sum = max_from_bucket2"
   ]
  },
  {
   "cell_type": "code",
   "execution_count": 127,
   "id": "756b862e",
   "metadata": {},
   "outputs": [
    {
     "data": {
      "text/plain": [
       "11"
      ]
     },
     "execution_count": 127,
     "metadata": {},
     "output_type": "execute_result"
    }
   ],
   "source": [
    "max_sum"
   ]
  },
  {
   "cell_type": "markdown",
   "id": "f3e0565e",
   "metadata": {},
   "source": [
    "# 3. \n",
    "Write a function to reverse a string without using any built-in reverse functions."
   ]
  },
  {
   "cell_type": "code",
   "execution_count": 136,
   "id": "8d65bc94",
   "metadata": {},
   "outputs": [
    {
     "data": {
      "text/plain": [
       "'dcba'"
      ]
     },
     "execution_count": 136,
     "metadata": {},
     "output_type": "execute_result"
    }
   ],
   "source": [
    "string = \"abcd\"\n",
    "reverse_string = string[::-1]\n",
    "reverse_string"
   ]
  },
  {
   "cell_type": "markdown",
   "id": "062335c9",
   "metadata": {},
   "source": [
    "# 4. \n",
    "Write a function to check if two strings are anagrams of each other.\n",
    "\n",
    "Example:\n",
    "    \n",
    "Input 1: \"listen\"\n",
    "    \n",
    "Input 2: \"silent\"\n",
    "    \n",
    "Output: Are Anagrams: True\n",
    "        \n",
    "Explanation\n",
    "\n",
    "function first removes spaces and converts both input strings to lowercase to make the comparison case-insensitive.\n",
    "Then, it checks if the sorted list of characters in both strings is the same. If they are the same, the strings are anagrams.\n",
    "\n",
    "The function returns True for this example because the characters in \"listen\" can be rearranged to form \"silent.\" If the characters were different or had different frequencies, the function would return False."
   ]
  },
  {
   "cell_type": "code",
   "execution_count": 146,
   "id": "fd3a4197",
   "metadata": {},
   "outputs": [
    {
     "data": {
      "text/plain": [
       "True"
      ]
     },
     "execution_count": 146,
     "metadata": {},
     "output_type": "execute_result"
    }
   ],
   "source": [
    "def anagram_detector(string1, string2):\n",
    "    return sorted(string1) == sorted(string2)     \n",
    "\n",
    "    \n",
    "string1 = \"listen\"\n",
    "string2 = \"silent\"\n",
    "    \n",
    "anagram_detector(string1, string2)"
   ]
  },
  {
   "cell_type": "markdown",
   "id": "fb511d7b",
   "metadata": {},
   "source": [
    "# Practice Questions..."
   ]
  },
  {
   "cell_type": "markdown",
   "id": "037b2342",
   "metadata": {},
   "source": [
    "## 1. \n",
    "Write a program to print all the unique characters in a String. For instance, if the input string is “abcb”, the output will be the characters ‘a’ and ‘c’ as they are unique. The character ‘b’ repeats twice and so it will not be printed.\n",
    "\n",
    "Input: abcab\n",
    "\n",
    "Output: c"
   ]
  },
  {
   "cell_type": "code",
   "execution_count": 165,
   "id": "350f32e3",
   "metadata": {},
   "outputs": [
    {
     "name": "stdout",
     "output_type": "stream",
     "text": [
      "c\n"
     ]
    }
   ],
   "source": [
    "string = 'abcab'\n",
    "tray = {}\n",
    "for char in string:\n",
    "    if char not in tray:\n",
    "        tray[char] = []\n",
    "    tray[char].append(char)\n",
    "\n",
    "for i in tray:\n",
    "    if len(tray[i]) == 1:\n",
    "        print(i)\n",
    " "
   ]
  },
  {
   "cell_type": "markdown",
   "id": "b4933250",
   "metadata": {},
   "source": [
    "## 2.\n",
    "Given three values - Start Fahrenheit Value (S), End Fahrenheit value (E) and Step Size (W), you need to convert all Fahrenheit values from Start to End at the gap of W, into their corresponding Celsius values and print the table.\n",
    "\n",
    "\n",
    "Sample Input :\n",
    "120 \n",
    "200 \n",
    "40\n",
    "\n",
    "\n",
    "Sample Output :\n",
    "120 48\n",
    "160 71\n",
    "200 93"
   ]
  },
  {
   "cell_type": "code",
   "execution_count": 172,
   "id": "054276a0",
   "metadata": {},
   "outputs": [],
   "source": [
    "def fahrenheit_to_celsius(start_f, end_f, step_size):\n",
    "    f = start_f\n",
    "    result = []\n",
    "    while f <= end_f:\n",
    "        celsius = int((f - 32) * 5/9)\n",
    "        result.append(f)\n",
    "        result.append(celsius)\n",
    "        f = f + step_size      \n",
    "    return result "
   ]
  },
  {
   "cell_type": "code",
   "execution_count": 173,
   "id": "9b878019",
   "metadata": {},
   "outputs": [
    {
     "data": {
      "text/plain": [
       "[120, 48, 160, 71, 200, 93]"
      ]
     },
     "execution_count": 173,
     "metadata": {},
     "output_type": "execute_result"
    }
   ],
   "source": [
    "start = 120\n",
    "end = 200\n",
    "step = 40\n",
    "\n",
    "fahrenheit_to_celsius(start, end, step)"
   ]
  },
  {
   "cell_type": "markdown",
   "id": "5e75708b",
   "metadata": {},
   "source": [
    "## 3.\n",
    "write a program to input an integer 'n' and print the sum of all its even digits and the sum of all its odd digits separately.\n",
    "\n",
    "Digits mean numbers, not places! That is, if the given integer is \"132456\", even digits are 2, 4, and 6, and odd digits are 1, 3, and 5.\n",
    "\n",
    "\n",
    "Example :\n",
    "\n",
    "Input: 'n' = 132456\n",
    "Output: 12 9\n",
    "\n",
    "Explanation:\n",
    "\n",
    "The sum of even digits = 2 + 4 + 6 = 12\n",
    "The sum of odd digits = 1 + 3 + 5 = 9"
   ]
  },
  {
   "cell_type": "code",
   "execution_count": 180,
   "id": "a9ce4062",
   "metadata": {},
   "outputs": [],
   "source": [
    "n = 132456 \n",
    "#n = input()\n",
    "sum_even = 0\n",
    "sum_odd = 0\n",
    "\n",
    "while n > 0:\n",
    "    digit = n % 10\n",
    "    if digit % 2 == 0:\n",
    "        sum_even = sum_even + digit\n",
    "    else:\n",
    "        sum_odd = sum_odd + digit\n",
    "    n = n//10"
   ]
  },
  {
   "cell_type": "code",
   "execution_count": 181,
   "id": "1ea0b0a0",
   "metadata": {},
   "outputs": [
    {
     "name": "stdout",
     "output_type": "stream",
     "text": [
      "Sum of even Numbers 12\n",
      "Sum of odd Numbers 9\n"
     ]
    }
   ],
   "source": [
    "print(\"Sum of even Numbers\",sum_even)\n",
    "print(\"Sum of odd Numbers\",sum_odd)"
   ]
  },
  {
   "cell_type": "markdown",
   "id": "0d34b21f",
   "metadata": {},
   "source": [
    "## 4.\n",
    "Write a program that takes a number as input and prints all its factors except 1 and the number itself.. If the number has only two factors (1 and the number itself), then the program should print -1.\n",
    "\n",
    "\n",
    "Sample Input:\n",
    "8\n",
    "\n",
    "Sample Output:\n",
    "2 4\n",
    "\n",
    "Explanation of Sample Output 1 :\n",
    "The factors for the number excluding 1 and itself are 2 and 4, so the output is 2 4."
   ]
  },
  {
   "cell_type": "code",
   "execution_count": 185,
   "id": "31ca4cb8",
   "metadata": {},
   "outputs": [
    {
     "name": "stdout",
     "output_type": "stream",
     "text": [
      "[2, 4]\n"
     ]
    }
   ],
   "source": [
    "num = 8\n",
    "factors = []\n",
    "for i in range(1, num+1, 1):\n",
    "    if num % i == 0:\n",
    "        factors.append(i)\n",
    "        \n",
    "n = len(factors)\n",
    "\n",
    "if n == 2:\n",
    "    print(-1)\n",
    "else:\n",
    "    print(factors[1:-1])"
   ]
  },
  {
   "cell_type": "markdown",
   "id": "b2b63c96",
   "metadata": {},
   "source": [
    "## 5.\n",
    "\n",
    "Write a program to find x to the power n (i.e. x^n). Take x and n from the user. You need to print the answer.\n",
    "\n",
    "Note : For this question, you can assume that 0 raised to the power of 0 is 1\n",
    "\n",
    "Sample Input :\n",
    " 3 4\n",
    " \n",
    "Sample Output :\n",
    "81"
   ]
  },
  {
   "cell_type": "code",
   "execution_count": 189,
   "id": "a3b3ac9f",
   "metadata": {},
   "outputs": [
    {
     "name": "stdout",
     "output_type": "stream",
     "text": [
      "Enter the Number: 3\n",
      "Enter the power: 4\n"
     ]
    },
    {
     "data": {
      "text/plain": [
       "81"
      ]
     },
     "execution_count": 189,
     "metadata": {},
     "output_type": "execute_result"
    }
   ],
   "source": [
    "n = int(input(\"Enter the Number: \"))\n",
    "p = int(input(\"Enter the power: \")) \n",
    "pow(n,p)"
   ]
  },
  {
   "cell_type": "markdown",
   "id": "14fb6576",
   "metadata": {},
   "source": [
    "## 6. \n",
    "Write a program to generate the reverse of a given number N. Print the corresponding reverse number.\n",
    "\n",
    "Note : If a number has trailing zeros, then its reverse will not include them. For e.g., reverse of 10400 will be 401 instead of 00401.\n",
    "\n",
    "Sample Input 1 :\n",
    "1234\n",
    "\n",
    "Sample Output 1 :\n",
    "4321"
   ]
  },
  {
   "cell_type": "code",
   "execution_count": 196,
   "id": "a614356d",
   "metadata": {},
   "outputs": [
    {
     "data": {
      "text/plain": [
       "4321"
      ]
     },
     "execution_count": 196,
     "metadata": {},
     "output_type": "execute_result"
    }
   ],
   "source": [
    "num = 1234\n",
    "# num = input(\"Enter the number\")\n",
    "\n",
    "reverse = 0\n",
    "while num > 0:\n",
    "    digit = num % 10\n",
    "    reverse = reverse * 10 + digit\n",
    "    num = num // 10\n",
    "    \n",
    "reverse"
   ]
  },
  {
   "cell_type": "markdown",
   "id": "72ea63ce",
   "metadata": {},
   "source": [
    "# Pattern"
   ]
  },
  {
   "cell_type": "markdown",
   "id": "277b7630",
   "metadata": {},
   "source": [
    "##  1.\n",
    "Print the following pattern for the given N number of rows.\n",
    "\n",
    "Pattern for N = 4\n",
    "\n",
    "A\n",
    "\n",
    "BC\n",
    "\n",
    "CDE\n",
    "\n",
    "DEFG"
   ]
  },
  {
   "cell_type": "code",
   "execution_count": 199,
   "id": "ab4134cd",
   "metadata": {},
   "outputs": [
    {
     "data": {
      "text/plain": [
       "65"
      ]
     },
     "execution_count": 199,
     "metadata": {},
     "output_type": "execute_result"
    }
   ],
   "source": [
    "ord(\"A\") \n",
    "chr(65) #to convert it back "
   ]
  },
  {
   "cell_type": "code",
   "execution_count": 208,
   "id": "ff77b345",
   "metadata": {},
   "outputs": [
    {
     "name": "stdout",
     "output_type": "stream",
     "text": [
      "\n",
      "A\n",
      "BC\n",
      "DEF\n"
     ]
    }
   ],
   "source": [
    "n = 4\n",
    "# n = input(\"Enter the number: \")\n",
    "count = 0\n",
    "for i in range(n):\n",
    "    for j in range(i):\n",
    "        print(chr(65 + count), end =\"\")\n",
    "        count += 1     \n",
    "    print(\"\")\n",
    "\n"
   ]
  },
  {
   "cell_type": "markdown",
   "id": "4cc94fdd",
   "metadata": {},
   "source": [
    "## 2.\n",
    "Print the following pattern for the given N number of rows.\n",
    "\n",
    "Pattern for N = 4\n",
    "\n",
    "1\n",
    "\n",
    "21\n",
    "\n",
    "321\n",
    "\n",
    "4321"
   ]
  },
  {
   "cell_type": "code",
   "execution_count": 219,
   "id": "a7b3996d",
   "metadata": {},
   "outputs": [
    {
     "name": "stdout",
     "output_type": "stream",
     "text": [
      "1\n",
      "21\n",
      "321\n",
      "4321\n"
     ]
    }
   ],
   "source": [
    "n = 4\n",
    "# n = input(\"Enter the number: \")\n",
    "n += 1\n",
    "\n",
    "for i in range(1, n, 1):\n",
    "    for j in range(i, 0 , -1):\n",
    "        print(j, end=\"\")\n",
    "    print(\"\")"
   ]
  },
  {
   "cell_type": "markdown",
   "id": "183ba9b2",
   "metadata": {},
   "source": [
    "## 3.\n",
    "Print the following pattern for the given N number of rows.\n",
    "\n",
    "Pattern for N = 3\n",
    " \n",
    " A\n",
    "    \n",
    " BB\n",
    "\n",
    " CCC"
   ]
  },
  {
   "cell_type": "code",
   "execution_count": 229,
   "id": "5e586bd1",
   "metadata": {},
   "outputs": [
    {
     "name": "stdout",
     "output_type": "stream",
     "text": [
      "\n",
      "A\n",
      "BB\n",
      "CCC\n"
     ]
    }
   ],
   "source": [
    "n = 4\n",
    "# n = input(\"Enter the number: \")\n",
    "count = 0\n",
    "for i in range(n):\n",
    "    for j in range(i):\n",
    "        print(chr(64 + count), end =\"\")\n",
    "    count += 1     \n",
    "    print(\"\")"
   ]
  },
  {
   "cell_type": "markdown",
   "id": "6417e3b8",
   "metadata": {},
   "source": [
    "## 5.\n",
    "\n",
    "Print the following pattern for the given number of rows.\n",
    "\n",
    "Pattern for N = 5\n",
    "\n",
    "E\n",
    "\n",
    "DE\n",
    "\n",
    "CDE\n",
    "\n",
    "BCDE\n",
    "\n",
    "ABCDE"
   ]
  },
  {
   "cell_type": "code",
   "execution_count": 22,
   "id": "e0a76624",
   "metadata": {},
   "outputs": [
    {
     "name": "stdout",
     "output_type": "stream",
     "text": [
      "E\n",
      "DE\n",
      "CDE\n",
      "BCDE\n",
      "ABCDE\n"
     ]
    }
   ],
   "source": [
    "n = 5\n",
    "# n = input(\"Enter the number: \")\n",
    "\n",
    "for i in range(1, n+1, 1):\n",
    "    for j in range(i, 0 , -1):\n",
    "        print(chr(65+n-j), end=\"\")\n",
    "    print(\"\")"
   ]
  },
  {
   "cell_type": "code",
   "execution_count": 6,
   "id": "57a59d91",
   "metadata": {},
   "outputs": [
    {
     "name": "stdout",
     "output_type": "stream",
     "text": [
      "\n",
      "E\n",
      "ED\n",
      "EDC\n",
      "EDCB\n"
     ]
    }
   ],
   "source": [
    "n = 5\n",
    "count = 0\n",
    "for i in range(n):\n",
    "    for j in range(i):\n",
    "        print(, end=\"\")\n",
    "    print(\"\")"
   ]
  },
  {
   "cell_type": "markdown",
   "id": "fdaa6b28",
   "metadata": {},
   "source": [
    "<b>6.</b> Write a program to print parallelogram pattern for the given N number of rows.<br>\n",
    "<pre>\n",
    "For N = 3\n",
    "***\n",
    " ***\n",
    "  ***\n",
    "</pre>"
   ]
  },
  {
   "cell_type": "code",
   "execution_count": 24,
   "id": "9618955b",
   "metadata": {},
   "outputs": [
    {
     "name": "stdout",
     "output_type": "stream",
     "text": [
      "***\n",
      " ***\n",
      "  ***\n"
     ]
    }
   ],
   "source": [
    "n = 3\n",
    "\n",
    "for i in range(n):\n",
    "    for k in range(i):\n",
    "        print(\" \", end=\"\")\n",
    "    for j in range(n):\n",
    "        print(\"*\",end=\"\")\n",
    "    \n",
    "    print(\"\")"
   ]
  },
  {
   "cell_type": "markdown",
   "id": "e9d4ad52",
   "metadata": {},
   "source": [
    "<b>7.</b> Print the following pattern for the given N number of rows.<br>\n",
    "<pre>\n",
    "Pattern for N = 3\n",
    "      1 \n",
    "     12\n",
    "    123\n",
    "</pre>"
   ]
  },
  {
   "cell_type": "code",
   "execution_count": 39,
   "id": "d153ae53",
   "metadata": {},
   "outputs": [
    {
     "name": "stdout",
     "output_type": "stream",
     "text": [
      "  1\n",
      " 12\n",
      "123\n"
     ]
    }
   ],
   "source": [
    "n = 3\n",
    "for i in range(1, n+1, 1):\n",
    "    for k in range(i, n, 1):\n",
    "        print(\" \", end=\"\")\n",
    "    for j in range(1,i+1,1):\n",
    "        print(j, end=\"\")\n",
    "    print(\"\")"
   ]
  },
  {
   "cell_type": "markdown",
   "id": "7f2f7d02",
   "metadata": {},
   "source": [
    "<b>8.</b> Write a program to print the pattern for the given N number of rows.<br>\n",
    "<pre>\n",
    "For N = 4\n",
    "\n",
    "1357\n",
    "3571\n",
    "5713\n",
    "7135\n",
    "</pre>"
   ]
  },
  {
   "cell_type": "code",
   "execution_count": 121,
   "id": "143abff7",
   "metadata": {},
   "outputs": [
    {
     "name": "stdout",
     "output_type": "stream",
     "text": [
      "1357\n",
      "3571\n",
      "5713\n",
      "7135\n"
     ]
    }
   ],
   "source": [
    "n = 4\n",
    "count = 1\n",
    "num = 0\n",
    "multiplier = 1\n",
    "for i in range(n-1):\n",
    "    multiplier *= 10\n",
    "for i in range(n):\n",
    "    num = num * 10 + count\n",
    "    count += 2\n",
    "print(num)\n",
    "\n",
    "for i in range(n-1):\n",
    "    first_digit = num // multiplier\n",
    "    temp = (num%multiplier)*10 + first_digit\n",
    "    print(temp)\n",
    "    num = temp   \n",
    "    "
   ]
  }
 ],
 "metadata": {
  "kernelspec": {
   "display_name": "Python 3 (ipykernel)",
   "language": "python",
   "name": "python3"
  },
  "language_info": {
   "codemirror_mode": {
    "name": "ipython",
    "version": 3
   },
   "file_extension": ".py",
   "mimetype": "text/x-python",
   "name": "python",
   "nbconvert_exporter": "python",
   "pygments_lexer": "ipython3",
   "version": "3.11.3"
  }
 },
 "nbformat": 4,
 "nbformat_minor": 5
}
