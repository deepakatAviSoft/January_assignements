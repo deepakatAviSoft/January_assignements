{
  "nbformat": 4,
  "nbformat_minor": 0,
  "metadata": {
    "colab": {
      "provenance": [],
      "authorship_tag": "ABX9TyN5d+phjb2thEZqBLl3Dan0",
      "include_colab_link": true
    },
    "kernelspec": {
      "name": "python3",
      "display_name": "Python 3"
    },
    "language_info": {
      "name": "python"
    }
  },
  "cells": [
    {
      "cell_type": "markdown",
      "metadata": {
        "id": "view-in-github",
        "colab_type": "text"
      },
      "source": [
        "<a href=\"https://colab.research.google.com/github/deepakatAviSoft/deepak_avisoft/blob/main/Assignement_for_weeknd.ipynb\" target=\"_parent\"><img src=\"https://colab.research.google.com/assets/colab-badge.svg\" alt=\"Open In Colab\"/></a>"
      ]
    },
    {
      "cell_type": "markdown",
      "source": [
        "<b>1.</b> Given a decimal number (integer N), convert it into binary and print.\n",
        "\n",
        "Sample Input :\n",
        "12\n",
        "\n",
        "Sample Output :\n",
        "1100"
      ],
      "metadata": {
        "id": "Z2vDy-6PYHex"
      }
    },
    {
      "cell_type": "code",
      "source": [
        "num = int(input(\"Enter a Number: \")) #12\n",
        "binary = bin(num)\n",
        "print(binary[2:])"
      ],
      "metadata": {
        "colab": {
          "base_uri": "https://localhost:8080/"
        },
        "id": "spMoIZ330oKZ",
        "outputId": "a8995567-df18-44db-88e9-704583f8b312"
      },
      "execution_count": null,
      "outputs": [
        {
          "output_type": "stream",
          "name": "stdout",
          "text": [
            "Enter a Number: 12\n",
            "1100\n"
          ]
        }
      ]
    },
    {
      "cell_type": "markdown",
      "source": [
        "<b>2.</b>\n",
        "Given an integer N, print all the prime numbers that lie in the range 2 to N (both inclusive). <br>\n",
        "Print the prime numbers in different lines.\n",
        "\n",
        "Sample Input:\n",
        "9\n",
        "\n",
        "Sample Output:\n",
        "2\n",
        "3\n",
        "5\n",
        "7"
      ],
      "metadata": {
        "id": "sAE1oC3hqdS0"
      }
    },
    {
      "cell_type": "code",
      "source": [
        "num = int(input(\"Enter a Number: \"))\n",
        "def checker(num):\n",
        "  for i in range(2, int(num**0.5)+1, 1): #here we are finding the square root to optimize\n",
        "    if  num % i == 0:\n",
        "      return False\n",
        "  return True\n",
        "\n",
        "for i in range(2, num, 1):\n",
        "  if checker(i):\n",
        "    print(i)"
      ],
      "metadata": {
        "colab": {
          "base_uri": "https://localhost:8080/"
        },
        "id": "bOUwfIkY1VJ0",
        "outputId": "820a1f69-f818-4f12-acb3-7fe036dd16ea"
      },
      "execution_count": null,
      "outputs": [
        {
          "output_type": "stream",
          "name": "stdout",
          "text": [
            "Enter a Number: 12\n",
            "2\n",
            "3\n",
            "5\n",
            "7\n",
            "11\n"
          ]
        }
      ]
    },
    {
      "cell_type": "markdown",
      "source": [
        "\n",
        "<b>3.</b> Print the following pattern for the given number of rows.\n",
        "<br>Pattern for N = 5\n",
        "<pre>\n",
        "           1\n",
        "          232\n",
        "         34543\n",
        "        4567654\n",
        "       567898765\n",
        "</pre>"
      ],
      "metadata": {
        "id": "-K2JCHzCrK2w"
      }
    },
    {
      "cell_type": "code",
      "source": [
        "#n = int(input(\"Enter the number: \"))\n",
        "n = 5\n",
        "\n",
        "for i in range(1, n+1, 1):\n",
        "  for spaces in range(1, n-i+1, 1):\n",
        "    print(\" \", end=\"\")\n",
        "\n",
        "  for j in range(1,i+1,1):\n",
        "    print(i+j-1, end=\"\")\n",
        "\n",
        "  count = 2*i-2\n",
        "  for k in range(1,i,1):\n",
        "    print(count, end=\"\")\n",
        "    count -= 1\n",
        "  print()"
      ],
      "metadata": {
        "id": "GlfAutDDB1WQ",
        "colab": {
          "base_uri": "https://localhost:8080/"
        },
        "outputId": "77d229aa-7c25-4205-ad0a-bc91e8ecb241"
      },
      "execution_count": 1,
      "outputs": [
        {
          "output_type": "stream",
          "name": "stdout",
          "text": [
            "    1\n",
            "   23\n",
            "  345\n",
            " 4567\n",
            "56789\n"
          ]
        }
      ]
    },
    {
      "cell_type": "code",
      "source": [
        "n = 5\n",
        "for i in range(1,n,1):\n",
        "  for j in range(1,i+1,1):\n",
        "    print(j, end='')\n",
        "  print('*')"
      ],
      "metadata": {
        "colab": {
          "base_uri": "https://localhost:8080/"
        },
        "id": "0RziY9Erp6rd",
        "outputId": "0f0e0366-764e-41a3-8722-ed99e3302c3f"
      },
      "execution_count": 7,
      "outputs": [
        {
          "output_type": "stream",
          "name": "stdout",
          "text": [
            "1*\n",
            "12*\n",
            "123*\n",
            "1234*\n"
          ]
        }
      ]
    },
    {
      "cell_type": "code",
      "source": [
        "count = 0\n",
        "for i in range(5):\n",
        "\n"
      ],
      "metadata": {
        "id": "EoeKHHL7AVJx"
      },
      "execution_count": null,
      "outputs": []
    },
    {
      "cell_type": "markdown",
      "source": [
        "<b>4.</b> Print the following pattern for the given number of rows. <br>\n",
        "Note: N is always odd.<br>\n",
        "Pattern for N = 5\n",
        "<pre>\n",
        "  *\n",
        " ***\n",
        "*****\n",
        " ***\n",
        "  *\n",
        "</pre>"
      ],
      "metadata": {
        "id": "EpfXbO1FrXn3"
      }
    },
    {
      "cell_type": "code",
      "source": [
        "n = 5\n",
        "n1 = n//2+1\n",
        "n2 = n-n1\n",
        "for i in range(1, n1+1, 1):\n",
        "  for spaces in range(1, n1-i+1,1):\n",
        "    print(' ', end=\"\")\n",
        "\n",
        "  for j in range(1, 2*i, 1):\n",
        "    print('*', end=\"\")\n",
        "\n",
        "  print()\n",
        "\n",
        "for i in range(1, n2+1, 1):\n",
        "  for spaces in range(1, i+1, 1):\n",
        "    print(\" \", end=\"\")\n",
        "  for j in range(1, 2*(n2-i+1), 1):\n",
        "    print(\"*\", end=\"\")\n",
        "\n",
        "  print()\n",
        "\n"
      ],
      "metadata": {
        "colab": {
          "base_uri": "https://localhost:8080/"
        },
        "id": "IVNtbtPAdvud",
        "outputId": "8614d836-4f6d-425c-82e4-041660922646"
      },
      "execution_count": 7,
      "outputs": [
        {
          "output_type": "stream",
          "name": "stdout",
          "text": [
            "  *\n",
            " ***\n",
            "*****\n",
            " ***\n",
            "  *\n"
          ]
        }
      ]
    },
    {
      "cell_type": "code",
      "source": [
        "n = 5\n",
        "for i in range(n):\n",
        "  print()"
      ],
      "metadata": {
        "id": "1vIIC86lU-rq"
      },
      "execution_count": null,
      "outputs": []
    },
    {
      "cell_type": "markdown",
      "source": [
        "<b>5.</b> Write a program to print triangle of user defined integers sum.\n",
        "\n",
        "Sample Input :<br>\n",
        "3<br>\n",
        "Sample Output :<br>\n",
        "1=1<br>\n",
        "1+2=3<br>\n",
        "1+2+3=6<br>"
      ],
      "metadata": {
        "id": "44U6mCeAyT5T"
      }
    },
    {
      "cell_type": "code",
      "source": [
        "n = 3\n",
        "string = ''\n",
        "add = ' + '\n",
        "sum = 0\n",
        "for i in range(1, n+1, 1):\n",
        "  sum += i\n",
        "  string += str(i)\n",
        "  print(string, \"=\", sum)\n",
        "  string += add\n",
        "\n",
        "\n"
      ],
      "metadata": {
        "colab": {
          "base_uri": "https://localhost:8080/"
        },
        "id": "GfpGwRKJTaor",
        "outputId": "8c65b2d2-3c1a-4415-bbd6-9216771f159e"
      },
      "execution_count": null,
      "outputs": [
        {
          "output_type": "stream",
          "name": "stdout",
          "text": [
            "1 = 1\n",
            "1 + 2 = 3\n",
            "1 + 2 + 3 = 6\n"
          ]
        }
      ]
    },
    {
      "cell_type": "markdown",
      "source": [
        "<b>6.</b> Check whether a given number ’n’ is a palindrome number.<br>\n",
        "<b>Note :</b>\n",
        "Palindrome numbers are the numbers that don't change when reversed.<br>\n",
        "You don’t need to print anything. Just implement the given function.<br>\n",
        "Example:<br>\n",
        "Input: 'n' = 51415<br>\n",
        "Output: true<br>\n",
        "Explanation: On reversing, 51415 gives 51415.<br>"
      ],
      "metadata": {
        "id": "DEE6GarLyvs7"
      }
    },
    {
      "cell_type": "code",
      "source": [
        "n = 51415\n",
        "temp = n\n",
        "reverse = 0\n",
        "while temp > 0:\n",
        "  digit = temp % 10\n",
        "  reverse = reverse * 10 + digit\n",
        "  temp = temp // 10\n",
        "if n == reverse:\n",
        "  print(\"True\")\n",
        "else:\n",
        "  print(\"False\")"
      ],
      "metadata": {
        "colab": {
          "base_uri": "https://localhost:8080/"
        },
        "id": "4UCp2gA_9dmb",
        "outputId": "261a8516-5ad1-4ac3-814e-17c6d6a155c4"
      },
      "execution_count": null,
      "outputs": [
        {
          "output_type": "stream",
          "name": "stdout",
          "text": [
            "True\n"
          ]
        }
      ]
    },
    {
      "cell_type": "markdown",
      "source": [
        "<b>7.</b> Print the following pattern for given number of rows.<br>\n",
        "input N=5<br>\n",
        "<pre>\n",
        " 5432*\n",
        " 543*1\n",
        " 54*21\n",
        " 5*321\n",
        " *4321\n",
        " </pre>"
      ],
      "metadata": {
        "id": "eHHEBrPPz8FS"
      }
    },
    {
      "cell_type": "code",
      "source": [
        "for i in range(5):\n",
        "  for j in range(5,i+1,-1):\n",
        "    print(j, end=\"\")\n",
        "  print(\"*\", end=\"\")\n",
        "  for k in range(i,0,-1):\n",
        "    print(k,end=\"\")\n",
        "  print('')"
      ],
      "metadata": {
        "colab": {
          "base_uri": "https://localhost:8080/"
        },
        "id": "iTANIogJ5ELU",
        "outputId": "f361f0ea-e209-4534-a8c7-a3aa1fd57c9e"
      },
      "execution_count": null,
      "outputs": [
        {
          "output_type": "stream",
          "name": "stdout",
          "text": [
            "5432*\n",
            "543*1\n",
            "54*21\n",
            "5*321\n",
            "*4321\n"
          ]
        }
      ]
    },
    {
      "cell_type": "code",
      "source": [
        "\n"
      ],
      "metadata": {
        "id": "4U_GYbCL5wbj",
        "colab": {
          "base_uri": "https://localhost:8080/"
        },
        "outputId": "e806b83b-2364-4947-e803-2342350373a8"
      },
      "execution_count": 5,
      "outputs": [
        {
          "output_type": "execute_result",
          "data": {
            "text/plain": [
              "1"
            ]
          },
          "metadata": {},
          "execution_count": 5
        }
      ]
    },
    {
      "cell_type": "code",
      "source": [],
      "metadata": {
        "id": "sW-qc2sGg7t2"
      },
      "execution_count": null,
      "outputs": []
    }
  ]
}