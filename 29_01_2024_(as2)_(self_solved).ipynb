{
  "nbformat": 4,
  "nbformat_minor": 0,
  "metadata": {
    "colab": {
      "provenance": [],
      "authorship_tag": "ABX9TyM1SAHrT8TBExB/miVc+kXd",
      "include_colab_link": true
    },
    "kernelspec": {
      "name": "python3",
      "display_name": "Python 3"
    },
    "language_info": {
      "name": "python"
    }
  },
  "cells": [
    {
      "cell_type": "markdown",
      "metadata": {
        "id": "view-in-github",
        "colab_type": "text"
      },
      "source": [
        "<a href=\"https://colab.research.google.com/github/deepakatAviSoft/deepak_avisoft/blob/main/29_01_2024_(as2)_(self_solved).ipynb\" target=\"_parent\"><img src=\"https://colab.research.google.com/assets/colab-badge.svg\" alt=\"Open In Colab\"/></a>"
      ]
    },
    {
      "cell_type": "markdown",
      "source": [
        "**2.**"
      ],
      "metadata": {
        "id": "vWg06FKBp74X"
      }
    },
    {
      "cell_type": "code",
      "source": [
        "#2\n",
        "class Solution:\n",
        "    def duplicate(arr):\n",
        "        return list(set(arr))"
      ],
      "metadata": {
        "id": "t_g2bdVbp_U3"
      },
      "execution_count": null,
      "outputs": []
    },
    {
      "cell_type": "code",
      "source": [
        "arr = [1, 2, 2, 2, 3]\n",
        "ans = Solution.duplicate(arr)\n",
        "ans"
      ],
      "metadata": {
        "colab": {
          "base_uri": "https://localhost:8080/"
        },
        "id": "6XKl3TkgyDOw",
        "outputId": "0f5aa3d3-b3d4-4f34-e62a-415a6bf675ec"
      },
      "execution_count": null,
      "outputs": [
        {
          "output_type": "execute_result",
          "data": {
            "text/plain": [
              "[1, 2, 3]"
            ]
          },
          "metadata": {},
          "execution_count": 5
        }
      ]
    },
    {
      "cell_type": "code",
      "source": [
        "arr = [1, 2, 2, 2, 3]"
      ],
      "metadata": {
        "id": "JcLkN8acPv9s"
      },
      "execution_count": null,
      "outputs": []
    },
    {
      "cell_type": "code",
      "source": [
        "#3\n",
        "class Solution:\n",
        "    def missingAndRepeating(arr):\n",
        "        arr.sort()\n",
        "        temp = 0\n",
        "        for i in arr:\n",
        "            diff =  i - temp\n",
        "            temp = i\n",
        "            if diff == 0:\n",
        "                duplicate = i\n",
        "            if diff == 2:\n",
        "                missing = i-1\n",
        "        return duplicate, missing"
      ],
      "metadata": {
        "id": "NXNv5Pox4rAI"
      },
      "execution_count": 6,
      "outputs": []
    },
    {
      "cell_type": "code",
      "source": [
        "arr = [6, 4, 3, 5, 5, 1]\n",
        "ans = Solution.missingAndRepeating(arr)\n",
        "ans"
      ],
      "metadata": {
        "colab": {
          "base_uri": "https://localhost:8080/"
        },
        "id": "hMWmatjs5awh",
        "outputId": "bdac0333-2a3f-40f1-8c3c-8d1a76c05892"
      },
      "execution_count": 7,
      "outputs": [
        {
          "output_type": "execute_result",
          "data": {
            "text/plain": [
              "(5, 2)"
            ]
          },
          "metadata": {},
          "execution_count": 7
        }
      ]
    },
    {
      "cell_type": "code",
      "source": [
        "#10 Selection Sort\n",
        "\n",
        "def selection_sort(arr):\n",
        "  n = len(arr)\n",
        "  for i in range(n):\n",
        "    minimum_index = i\n",
        "    for current_index in range(i+1, n):\n",
        "      if arr[current_index] < arr[minimum_index]:\n",
        "        minimum_index = current_index\n",
        "\n",
        "    arr[i], arr[minimum_index] = arr[minimum_index], arr[i]\n",
        "\n",
        "  return arr"
      ],
      "metadata": {
        "id": "IBvNsCIe5b2Y"
      },
      "execution_count": 21,
      "outputs": []
    },
    {
      "cell_type": "code",
      "source": [
        "arr = [6, 2, 8, 4, 10]\n",
        "ans = selection_sort(arr)\n",
        "ans"
      ],
      "metadata": {
        "colab": {
          "base_uri": "https://localhost:8080/"
        },
        "id": "pXz146CVDwRE",
        "outputId": "b600bdc7-d08a-49ab-96a6-ece571134635"
      },
      "execution_count": 22,
      "outputs": [
        {
          "output_type": "execute_result",
          "data": {
            "text/plain": [
              "[2, 4, 6, 8, 10]"
            ]
          },
          "metadata": {},
          "execution_count": 22
        }
      ]
    },
    {
      "cell_type": "code",
      "source": [
        "#14\n",
        "\n",
        "def bubble_sort(arr):\n",
        "  n = len(arr)\n",
        "\n",
        "  for i in range(n):\n",
        "    for j in range(0,n-i-1):\n",
        "      if arr[j] > arr[j+1]:\n",
        "        arr[j], arr[j+1] = arr[j+1], arr[j]\n",
        "\n",
        "  return arr"
      ],
      "metadata": {
        "id": "rqxq23UBEC6Y"
      },
      "execution_count": 26,
      "outputs": []
    },
    {
      "cell_type": "code",
      "source": [
        "arr = [6, 2, 8, 4, 10]\n",
        "ans = bubble_sort(arr)\n",
        "ans"
      ],
      "metadata": {
        "colab": {
          "base_uri": "https://localhost:8080/"
        },
        "id": "vt-S3LLWTuuH",
        "outputId": "cd91f7ba-7b98-44c8-8cea-845c04debabf"
      },
      "execution_count": 27,
      "outputs": [
        {
          "output_type": "execute_result",
          "data": {
            "text/plain": [
              "[2, 4, 6, 8, 10]"
            ]
          },
          "metadata": {},
          "execution_count": 27
        }
      ]
    },
    {
      "cell_type": "code",
      "source": [],
      "metadata": {
        "id": "Q7MDp5ufUKcE"
      },
      "execution_count": null,
      "outputs": []
    }
  ]
}