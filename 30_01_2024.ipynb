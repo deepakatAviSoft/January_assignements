{
  "nbformat": 4,
  "nbformat_minor": 0,
  "metadata": {
    "colab": {
      "provenance": [],
      "authorship_tag": "ABX9TyPOMRc6nieMQ5c4ahyuSYIG",
      "include_colab_link": true
    },
    "kernelspec": {
      "name": "python3",
      "display_name": "Python 3"
    },
    "language_info": {
      "name": "python"
    }
  },
  "cells": [
    {
      "cell_type": "markdown",
      "metadata": {
        "id": "view-in-github",
        "colab_type": "text"
      },
      "source": [
        "<a href=\"https://colab.research.google.com/github/deepakatAviSoft/January_assignements/blob/main/30_01_2024.ipynb\" target=\"_parent\"><img src=\"https://colab.research.google.com/assets/colab-badge.svg\" alt=\"Open In Colab\"/></a>"
      ]
    },
    {
      "cell_type": "markdown",
      "source": [
        "<b>1. </b>Number of occurrence<br>\n",
        "Problem statement<br>\n",
        "You have been given a sorted array/list of integers 'arr' of size 'n' and an integer 'x'.<br>\n",
        "Find the total number of occurrences of 'x' in the array/list.<br>\n",
        "Example:<br>\n",
        "Input: 'n' = 7, 'x' = 3<br>\n",
        "'arr' = [1, 1, 1, 2, 2, 3, 3]<br>\n",
        "Output: 2<br>\n",
        "Explanation: Total occurrences of '3' in the array 'arr' is 2.<br>"
      ],
      "metadata": {
        "id": "5RXpVU3c845c"
      }
    },
    {
      "cell_type": "code",
      "source": [
        "arr = [1, 1, 1, 2, 2, 3, 3]\n",
        "n = 7\n",
        "x = 3\n",
        "count = 0\n",
        "for i in arr:\n",
        "  if x == i:\n",
        "    count += 1\n",
        "\n",
        "count"
      ],
      "metadata": {
        "colab": {
          "base_uri": "https://localhost:8080/"
        },
        "id": "72wU2PEv9HVe",
        "outputId": "411b5dd1-b6b6-4e75-c6d0-e95a5d19d5c1"
      },
      "execution_count": 3,
      "outputs": [
        {
          "output_type": "execute_result",
          "data": {
            "text/plain": [
              "2"
            ]
          },
          "metadata": {},
          "execution_count": 3
        }
      ]
    },
    {
      "cell_type": "markdown",
      "source": [
        "<b>2.</b> Find First and Last Position of Element in Sorted Array\n",
        "Problem statement<br>\n",
        "You are given a non-decreasing array 'arr' consisting of 'n' integers and an integer 'x'. You need to find the first and last position of 'x' in the array.<br>\n",
        "Note:<br>\n",
        "1. The array follows 0-based indexing, so you need to return 0-based indices.<br>\n",
        "2. If 'x' is not present in the array, return {-1 -1}.<br>\n",
        "3. If 'x' is only present once in the array, the first and last position of its occurrence will be the same.<br>\n",
        "Example:<br>\n",
        "Input:  arr = [1, 2, 4, 4, 5],  x = 4<br>\n",
        "Output: 2 3<br>\n",
        "Explanation: The given array’s 0-based indexing is as follows:<br>\n",
        "<pre>\n",
        " 1      2     4     4     5\n",
        " ↓      ↓     ↓     ↓     ↓\n",
        " 0      1     2     3     4</pre>\n",
        "So, the first occurrence of 4 is at index 2, and the last occurrence of 4 is at index 3.<br>"
      ],
      "metadata": {
        "id": "JPd_z20t_NBp"
      }
    },
    {
      "cell_type": "code",
      "source": [
        "arr = [1, 2, 4, 4, 5]\n",
        "x = 4\n",
        "n = len(arr)\n",
        "result = []\n",
        "for i in range(n):\n",
        "  if arr[i] == x:\n",
        "    result.append(i)\n",
        "result"
      ],
      "metadata": {
        "colab": {
          "base_uri": "https://localhost:8080/"
        },
        "id": "IScswxeb-NW4",
        "outputId": "d9f8a265-d75c-40ac-fe3b-65cf3f63ee8a"
      },
      "execution_count": 5,
      "outputs": [
        {
          "output_type": "execute_result",
          "data": {
            "text/plain": [
              "[2, 3]"
            ]
          },
          "metadata": {},
          "execution_count": 5
        }
      ]
    },
    {
      "cell_type": "markdown",
      "source": [
        "<b>3.</b> Find Duplicates In Array<br>\n",
        "Problem statement<br>\n",
        "You are given an array/list 'ARR' consisting of N integers, which contains elements only in the range 0 to N - 1.<br> Some of the elements may be repeated in 'ARR'. Your task is to find all such duplicate elements.<br>\n",
        "\n",
        "Note:<br>\n",
        "1. All the elements are in the range 0 to N - 1.<br>\n",
        "2. The elements may not be in sorted order.<br>\n",
        "3. You can return the duplicate elements in any order.<br>\n",
        "4. If there are no duplicates present then return an empty array.<br>\n",
        "\n",
        "Sample Input 1:<br>\n",
        "2<br>\n",
        "5<br>\n",
        "0 2 1 2 3 <br>\n",
        "7<br>\n",
        "3 2 1 3 2 1 5<br>\n",
        "Sample Output 1:<br>\n",
        "2<br>\n",
        "1 2 3<br>\n",
        "Explanation For Sample Input 1:<br>\n",
        "For the first test case, since 2 is the only duplicate element, so we return it.<br>\n",
        "\n",
        "For the second test case, since 1, 2, 3 are duplicates so we return them. Note that 2, 3, 1 and 3, 2, 1 are also acceptable."
      ],
      "metadata": {
        "id": "lUgm3Up-BzwC"
      }
    },
    {
      "cell_type": "code",
      "source": [
        "number_of_input = 2\n",
        "arr = [[0, 2, 1, 2, 3],[3, 2, 1, 3, 2, 1, 5]]\n",
        "\n",
        "def helper(arr):\n",
        "  result= []\n",
        "  tray = {}\n",
        "  for i in arr:\n",
        "    if i not in tray:\n",
        "      tray[i] = []\n",
        "    tray[i].append(i)\n",
        "  for i in tray:\n",
        "    if len(tray[i]) > 1:\n",
        "      result.append(i)\n",
        "  return result\n",
        "\n",
        "n = len(arr)\n",
        "ans = []\n",
        "for i in arr:\n",
        "  ans.append(helper(i))\n",
        "\n",
        "ans\n"
      ],
      "metadata": {
        "colab": {
          "base_uri": "https://localhost:8080/"
        },
        "id": "y0xWh5xdBJUw",
        "outputId": "6f925ab4-2830-44df-96ff-b9b20a40132e"
      },
      "execution_count": 29,
      "outputs": [
        {
          "output_type": "execute_result",
          "data": {
            "text/plain": [
              "[[2], [3, 2, 1]]"
            ]
          },
          "metadata": {},
          "execution_count": 29
        }
      ]
    },
    {
      "cell_type": "markdown",
      "source": [
        "<b>4. Search In Infinite Sorted 0-1 Array</b><br>\n",
        "Problem statement<br>\n",
        "You are given an infinite array consisting of only ones and zeroes, in sorted order. You have to find the index of the first occurrence of 1.<br>\n",
        "\n",
        "Example:<br>\n",
        "If the array is 0 0 0 0 1 1 1 1… then, the first occurrence of 1 will be at index 4 therefore the answer here is 4.<br>\n",
        "Note:<br>\n",
        "As the array size is infinite, the actual array won’t be given to you. Instead, you will be able to access the array elements by calling a method named ‘get’.<br>\n",
        "\n",
        "get(i) : returns the value present at index I.<br>\n",
        "\n",
        "Indexing is 0-based. <br>\n",
        "\n",
        "Instead of representing an infinite array in the input, we give the index of the first occurrence of 1 in the input itself. However, this input will be completely hidden from the user.<br>\n",
        "\n",
        "It is guaranteed that the answer will fit in a 64-bit integer.<br>"
      ],
      "metadata": {
        "id": "IOP3YF29OCOl"
      }
    },
    {
      "cell_type": "code",
      "source": [
        "k = 4\n",
        "\n",
        "def first_occurence(k):\n",
        "  return k\n",
        "\n",
        "ans = first_occurence(k)\n",
        "ans"
      ],
      "metadata": {
        "colab": {
          "base_uri": "https://localhost:8080/"
        },
        "id": "fl2fatjEOBdw",
        "outputId": "780e8d42-d848-49fd-853b-fc71f2f55e67"
      },
      "execution_count": 32,
      "outputs": [
        {
          "output_type": "execute_result",
          "data": {
            "text/plain": [
              "4"
            ]
          },
          "metadata": {},
          "execution_count": 32
        }
      ]
    },
    {
      "cell_type": "code",
      "source": [],
      "metadata": {
        "id": "NFi3pS0QQwtn"
      },
      "execution_count": null,
      "outputs": []
    }
  ]
}