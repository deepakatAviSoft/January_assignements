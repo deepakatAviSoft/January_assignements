{
  "nbformat": 4,
  "nbformat_minor": 0,
  "metadata": {
    "colab": {
      "provenance": [],
      "authorship_tag": "ABX9TyPqbJmTnT6Lqnl6IN7FCJ2o",
      "include_colab_link": true
    },
    "kernelspec": {
      "name": "python3",
      "display_name": "Python 3"
    },
    "language_info": {
      "name": "python"
    }
  },
  "cells": [
    {
      "cell_type": "markdown",
      "metadata": {
        "id": "view-in-github",
        "colab_type": "text"
      },
      "source": [
        "<a href=\"https://colab.research.google.com/github/deepakatAviSoft/deepak_avisoft/blob/main/30_01_2024.ipynb\" target=\"_parent\"><img src=\"https://colab.research.google.com/assets/colab-badge.svg\" alt=\"Open In Colab\"/></a>"
      ]
    },
    {
      "cell_type": "markdown",
      "source": [
        "<b>1. </b>Number of occurrence<br>\n",
        "Problem statement<br>\n",
        "You have been given a sorted array/list of integers 'arr' of size 'n' and an integer 'x'.<br>\n",
        "Find the total number of occurrences of 'x' in the array/list.<br>\n",
        "Example:<br>\n",
        "Input: 'n' = 7, 'x' = 3<br>\n",
        "'arr' = [1, 1, 1, 2, 2, 3, 3]<br>\n",
        "Output: 2<br>\n",
        "Explanation: Total occurrences of '3' in the array 'arr' is 2.<br>"
      ],
      "metadata": {
        "id": "5RXpVU3c845c"
      }
    },
    {
      "cell_type": "code",
      "source": [
        "arr = [1, 1, 1, 2, 2, 3, 3]\n",
        "n = 7\n",
        "x = 3\n",
        "count = 0\n",
        "for i in arr:\n",
        "  if x == i:\n",
        "    count += 1\n",
        "\n",
        "count"
      ],
      "metadata": {
        "colab": {
          "base_uri": "https://localhost:8080/"
        },
        "id": "72wU2PEv9HVe",
        "outputId": "411b5dd1-b6b6-4e75-c6d0-e95a5d19d5c1"
      },
      "execution_count": 3,
      "outputs": [
        {
          "output_type": "execute_result",
          "data": {
            "text/plain": [
              "2"
            ]
          },
          "metadata": {},
          "execution_count": 3
        }
      ]
    },
    {
      "cell_type": "code",
      "source": [],
      "metadata": {
        "id": "IScswxeb-NW4"
      },
      "execution_count": null,
      "outputs": []
    }
  ]
}