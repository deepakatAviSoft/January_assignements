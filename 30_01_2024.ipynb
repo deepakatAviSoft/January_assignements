{
  "nbformat": 4,
  "nbformat_minor": 0,
  "metadata": {
    "colab": {
      "provenance": [],
      "authorship_tag": "ABX9TyO3fh0yG0Bwvjv0ij+UT76y",
      "include_colab_link": true
    },
    "kernelspec": {
      "name": "python3",
      "display_name": "Python 3"
    },
    "language_info": {
      "name": "python"
    }
  },
  "cells": [
    {
      "cell_type": "markdown",
      "metadata": {
        "id": "view-in-github",
        "colab_type": "text"
      },
      "source": [
        "<a href=\"https://colab.research.google.com/github/deepakatAviSoft/January_assignements/blob/main/30_01_2024.ipynb\" target=\"_parent\"><img src=\"https://colab.research.google.com/assets/colab-badge.svg\" alt=\"Open In Colab\"/></a>"
      ]
    },
    {
      "cell_type": "markdown",
      "source": [
        "<b>1. </b>Number of occurrence<br>\n",
        "Problem statement<br>\n",
        "You have been given a sorted array/list of integers 'arr' of size 'n' and an integer 'x'.<br>\n",
        "Find the total number of occurrences of 'x' in the array/list.<br>\n",
        "Example:<br>\n",
        "Input: 'n' = 7, 'x' = 3<br>\n",
        "'arr' = [1, 1, 1, 2, 2, 3, 3]<br>\n",
        "Output: 2<br>\n",
        "Explanation: Total occurrences of '3' in the array 'arr' is 2.<br>"
      ],
      "metadata": {
        "id": "5RXpVU3c845c"
      }
    },
    {
      "cell_type": "code",
      "source": [
        "arr = [1, 1, 1, 2, 2, 3, 3]\n",
        "n = 7\n",
        "x = 3\n",
        "count = 0\n",
        "for i in arr:\n",
        "  if x == i:\n",
        "    count += 1\n",
        "\n",
        "count"
      ],
      "metadata": {
        "colab": {
          "base_uri": "https://localhost:8080/"
        },
        "id": "72wU2PEv9HVe",
        "outputId": "411b5dd1-b6b6-4e75-c6d0-e95a5d19d5c1"
      },
      "execution_count": null,
      "outputs": [
        {
          "output_type": "execute_result",
          "data": {
            "text/plain": [
              "2"
            ]
          },
          "metadata": {},
          "execution_count": 3
        }
      ]
    },
    {
      "cell_type": "markdown",
      "source": [
        "<b>2.</b> Find First and Last Position of Element in Sorted Array\n",
        "Problem statement<br>\n",
        "You are given a non-decreasing array 'arr' consisting of 'n' integers and an integer 'x'. You need to find the first and last position of 'x' in the array.<br>\n",
        "Note:<br>\n",
        "1. The array follows 0-based indexing, so you need to return 0-based indices.<br>\n",
        "2. If 'x' is not present in the array, return {-1 -1}.<br>\n",
        "3. If 'x' is only present once in the array, the first and last position of its occurrence will be the same.<br>\n",
        "Example:<br>\n",
        "Input:  arr = [1, 2, 4, 4, 5],  x = 4<br>\n",
        "Output: 2 3<br>\n",
        "Explanation: The given array’s 0-based indexing is as follows:<br>\n",
        "<pre>\n",
        " 1      2     4     4     5\n",
        " ↓      ↓     ↓     ↓     ↓\n",
        " 0      1     2     3     4</pre>\n",
        "So, the first occurrence of 4 is at index 2, and the last occurrence of 4 is at index 3.<br>"
      ],
      "metadata": {
        "id": "JPd_z20t_NBp"
      }
    },
    {
      "cell_type": "code",
      "source": [
        "arr = [1, 2, 4, 4, 5]\n",
        "x = 4\n",
        "n = len(arr)\n",
        "result = []\n",
        "for i in range(n):\n",
        "  if arr[i] == x:\n",
        "    result.append(i)\n",
        "result"
      ],
      "metadata": {
        "colab": {
          "base_uri": "https://localhost:8080/"
        },
        "id": "IScswxeb-NW4",
        "outputId": "d9f8a265-d75c-40ac-fe3b-65cf3f63ee8a"
      },
      "execution_count": null,
      "outputs": [
        {
          "output_type": "execute_result",
          "data": {
            "text/plain": [
              "[2, 3]"
            ]
          },
          "metadata": {},
          "execution_count": 5
        }
      ]
    },
    {
      "cell_type": "markdown",
      "source": [
        "<b>3.</b> Find Duplicates In Array<br>\n",
        "Problem statement<br>\n",
        "You are given an array/list 'ARR' consisting of N integers, which contains elements only in the range 0 to N - 1.<br> Some of the elements may be repeated in 'ARR'. Your task is to find all such duplicate elements.<br>\n",
        "\n",
        "Note:<br>\n",
        "1. All the elements are in the range 0 to N - 1.<br>\n",
        "2. The elements may not be in sorted order.<br>\n",
        "3. You can return the duplicate elements in any order.<br>\n",
        "4. If there are no duplicates present then return an empty array.<br>\n",
        "\n",
        "Sample Input 1:<br>\n",
        "2<br>\n",
        "5<br>\n",
        "0 2 1 2 3 <br>\n",
        "7<br>\n",
        "3 2 1 3 2 1 5<br>\n",
        "Sample Output 1:<br>\n",
        "2<br>\n",
        "1 2 3<br>\n",
        "Explanation For Sample Input 1:<br>\n",
        "For the first test case, since 2 is the only duplicate element, so we return it.<br>\n",
        "\n",
        "For the second test case, since 1, 2, 3 are duplicates so we return them. Note that 2, 3, 1 and 3, 2, 1 are also acceptable."
      ],
      "metadata": {
        "id": "lUgm3Up-BzwC"
      }
    },
    {
      "cell_type": "code",
      "source": [
        "number_of_input = 2\n",
        "arr = [[0, 2, 1, 2, 3],[3, 2, 1, 3, 2, 1, 5]]\n",
        "\n",
        "def helper(arr):\n",
        "  result= []\n",
        "  tray = {}\n",
        "  for i in arr:\n",
        "    if i not in tray:\n",
        "      tray[i] = []\n",
        "    tray[i].append(i)\n",
        "  for i in tray:\n",
        "    if len(tray[i]) > 1:\n",
        "      result.append(i)\n",
        "  return result\n",
        "\n",
        "n = len(arr)\n",
        "ans = []\n",
        "for i in arr:\n",
        "  ans.append(helper(i))\n",
        "\n",
        "ans\n"
      ],
      "metadata": {
        "colab": {
          "base_uri": "https://localhost:8080/"
        },
        "id": "y0xWh5xdBJUw",
        "outputId": "6f925ab4-2830-44df-96ff-b9b20a40132e"
      },
      "execution_count": null,
      "outputs": [
        {
          "output_type": "execute_result",
          "data": {
            "text/plain": [
              "[[2], [3, 2, 1]]"
            ]
          },
          "metadata": {},
          "execution_count": 29
        }
      ]
    },
    {
      "cell_type": "markdown",
      "source": [
        "<b>4.</b> Sort 0 1 2<br>\n",
        "Problem statement<br>\n",
        "You have been given an integer array/list(ARR) of size 'N'. It only contains 0s, 1s and 2s. Write a solution to sort this array/list.<br>\n",
        "\n",
        "Note :<br>\n",
        "without using any inbuilt function<br>\n",
        "Try to solve the problem in 'Single Scan'. ' Single Scan' refers to iterating over the array/list just once or to put it in other words, you will be visiting each element in the array/list just once.<br>\n",
        "\n",
        "Sample Input 1 :<br>\n",
        "2<br>\n",
        "6<br>\n",
        "0 1 2 2 1 0<br>\n",
        "7<br>\n",
        "0 1 2 1 2 1 2<br>\n",
        "Sample Output 1 :<br>\n",
        "0 0 1 1 2 2<br>\n",
        "0 1 1 1 2 2 2<br>"
      ],
      "metadata": {
        "id": "Ivd3IZHnbI9b"
      }
    },
    {
      "cell_type": "code",
      "source": [],
      "metadata": {
        "id": "NFi3pS0QQwtn"
      },
      "execution_count": null,
      "outputs": []
    },
    {
      "cell_type": "markdown",
      "source": [
        "<b>5.</b>Problem statement <br>\n",
        "For a given two-dimensional square matrix of size (N x N). Find the total sum<br> of elements on both the diagonals and at all the four boundaries.<br>\n",
        "<pre>\n",
        "Sample input 1:\n",
        "1\n",
        "3\n",
        "1 2 3\n",
        "4 5 6\n",
        "7 8 9\n",
        "Sample Output 1:\n",
        "45 </pre>\n",
        "\n",
        "<b>Explanation</b> for Sample Output 1:<br>\n",
        "The boundary elements are 1, 2, 3, 6, 9, 8, 7 and 4. <br>\n",
        "\n",
        "The first-diagonal elements are 1, 5 and 9. <br>\n",
        "\n",
        "The second-diagonal elements are 3, 5 and 7.<br>\n",
        "\n",
        "We just need to add all these numbers making sure that no number is added twice. For example, '1' is both a boundary element and a first-diagonal element similarly, '5' contributes to both the diagonals but they won't be added twice.\n",
        "\n",
        "Hence, we add up, [1 + 2 + 3 + 6 + 9 + 8 + 7 + 4 + 5] to give 45 as the output."
      ],
      "metadata": {
        "id": "bFPz7J48bGPg"
      }
    },
    {
      "cell_type": "code",
      "source": [
        "matrix = [[1,2,3,4,5],[1,1,1],[1,1,1]]\n",
        "\n",
        "def sum_matrix(matrix):\n",
        "  n = len(matrix)\n",
        "  sum_diagonal_1, sum_diagonal_2, sum_row, sum_col = 0, 0, 0, 0\n",
        "  sum_repeating = matrix[0][0] + matrix[0][n-1] + matrix[n-1][0] + matrix[n-1][n-1]\n",
        "  sum_repeating = 2 * sum_repeating\n",
        "  if n%2 != 0:\n",
        "    mid_point = n//2\n",
        "  for i in range(n):\n",
        "    sum_diagonal_1 += matrix[n-i-1][n-i-1]\n",
        "    sum_diagonal_2 += matrix[i][i]\n",
        "    sum_row += matrix[0][i] + matrix[n-1][i]\n",
        "    sum_col += matrix[i][0] + matrix[i][n-1]\n",
        "\n",
        "  result =  sum_diagonal_1 + sum_diagonal_2 + sum_row + sum_col - sum_repeating - matrix[mid_point][mid_point]\n",
        "  return result"
      ],
      "metadata": {
        "id": "loTlkumF6sdE"
      },
      "execution_count": 44,
      "outputs": []
    },
    {
      "cell_type": "code",
      "source": [
        "matrix = [[1,2,3,4,5],[1,2,3,4,5],[1,2,3,4,5],[1,2,3,4,5],[1,2,3,4,5]]\n",
        "result = sum_matrix(matrix)\n",
        "result"
      ],
      "metadata": {
        "colab": {
          "base_uri": "https://localhost:8080/"
        },
        "id": "BYyShJ7i9kEs",
        "outputId": "70bf5b18-3558-4836-82e6-268d50c25c12"
      },
      "execution_count": 45,
      "outputs": [
        {
          "output_type": "execute_result",
          "data": {
            "text/plain": [
              "63"
            ]
          },
          "metadata": {},
          "execution_count": 45
        }
      ]
    },
    {
      "cell_type": "code",
      "source": [],
      "metadata": {
        "id": "mJBsMp8gVPPE"
      },
      "execution_count": null,
      "outputs": []
    }
  ]
}