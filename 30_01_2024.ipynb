{
  "nbformat": 4,
  "nbformat_minor": 0,
  "metadata": {
    "colab": {
      "provenance": [],
      "authorship_tag": "ABX9TyNj6kvWPR8zeWldNyI3mKEL",
      "include_colab_link": true
    },
    "kernelspec": {
      "name": "python3",
      "display_name": "Python 3"
    },
    "language_info": {
      "name": "python"
    }
  },
  "cells": [
    {
      "cell_type": "markdown",
      "metadata": {
        "id": "view-in-github",
        "colab_type": "text"
      },
      "source": [
        "<a href=\"https://colab.research.google.com/github/deepakatAviSoft/deepak_avisoft/blob/main/30_01_2024.ipynb\" target=\"_parent\"><img src=\"https://colab.research.google.com/assets/colab-badge.svg\" alt=\"Open In Colab\"/></a>"
      ]
    },
    {
      "cell_type": "markdown",
      "source": [
        "<b>1. </b>Number of occurrence<br>\n",
        "Problem statement<br>\n",
        "You have been given a sorted array/list of integers 'arr' of size 'n' and an integer 'x'.<br>\n",
        "Find the total number of occurrences of 'x' in the array/list.<br>\n",
        "Example:<br>\n",
        "Input: 'n' = 7, 'x' = 3<br>\n",
        "'arr' = [1, 1, 1, 2, 2, 3, 3]<br>\n",
        "Output: 2<br>\n",
        "Explanation: Total occurrences of '3' in the array 'arr' is 2.<br>"
      ],
      "metadata": {
        "id": "5RXpVU3c845c"
      }
    },
    {
      "cell_type": "code",
      "source": [
        "arr = [1, 1, 1, 2, 2, 3, 3]\n",
        "n = 7\n",
        "x = 3\n",
        "count = 0\n",
        "for i in arr:\n",
        "  if x == i:\n",
        "    count += 1\n",
        "\n",
        "count"
      ],
      "metadata": {
        "colab": {
          "base_uri": "https://localhost:8080/"
        },
        "id": "72wU2PEv9HVe",
        "outputId": "411b5dd1-b6b6-4e75-c6d0-e95a5d19d5c1"
      },
      "execution_count": 3,
      "outputs": [
        {
          "output_type": "execute_result",
          "data": {
            "text/plain": [
              "2"
            ]
          },
          "metadata": {},
          "execution_count": 3
        }
      ]
    },
    {
      "cell_type": "markdown",
      "source": [
        "<b>2.</b> Find First and Last Position of Element in Sorted Array\n",
        "Problem statement<br>\n",
        "You are given a non-decreasing array 'arr' consisting of 'n' integers and an integer 'x'. You need to find the first and last position of 'x' in the array.<br>\n",
        "Note:<br>\n",
        "1. The array follows 0-based indexing, so you need to return 0-based indices.<br>\n",
        "2. If 'x' is not present in the array, return {-1 -1}.<br>\n",
        "3. If 'x' is only present once in the array, the first and last position of its occurrence will be the same.<br>\n",
        "Example:<br>\n",
        "Input:  arr = [1, 2, 4, 4, 5],  x = 4<br>\n",
        "Output: 2 3<br>\n",
        "Explanation: The given array’s 0-based indexing is as follows:<br>\n",
        "<pre>\n",
        " 1      2     4     4     5\n",
        " ↓      ↓     ↓     ↓     ↓\n",
        " 0      1     2     3     4</pre>\n",
        "So, the first occurrence of 4 is at index 2, and the last occurrence of 4 is at index 3.<br>"
      ],
      "metadata": {
        "id": "JPd_z20t_NBp"
      }
    },
    {
      "cell_type": "code",
      "source": [
        "arr = [1, 2, 4, 4, 5]\n",
        "x = 4\n",
        "n = len(arr)\n",
        "result = []\n",
        "for i in range(n):\n",
        "  if arr[i] == x:\n",
        "    result.append(i)\n",
        "result"
      ],
      "metadata": {
        "colab": {
          "base_uri": "https://localhost:8080/"
        },
        "id": "IScswxeb-NW4",
        "outputId": "d9f8a265-d75c-40ac-fe3b-65cf3f63ee8a"
      },
      "execution_count": 5,
      "outputs": [
        {
          "output_type": "execute_result",
          "data": {
            "text/plain": [
              "[2, 3]"
            ]
          },
          "metadata": {},
          "execution_count": 5
        }
      ]
    },
    {
      "cell_type": "code",
      "source": [],
      "metadata": {
        "id": "y0xWh5xdBJUw"
      },
      "execution_count": null,
      "outputs": []
    }
  ]
}