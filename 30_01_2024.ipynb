{
  "nbformat": 4,
  "nbformat_minor": 0,
  "metadata": {
    "colab": {
      "provenance": [],
      "authorship_tag": "ABX9TyON0/gCtSnr3pV8xOhRCUXW",
      "include_colab_link": true
    },
    "kernelspec": {
      "name": "python3",
      "display_name": "Python 3"
    },
    "language_info": {
      "name": "python"
    }
  },
  "cells": [
    {
      "cell_type": "markdown",
      "metadata": {
        "id": "view-in-github",
        "colab_type": "text"
      },
      "source": [
        "<a href=\"https://colab.research.google.com/github/deepakatAviSoft/deepak_avisoft/blob/main/30_01_2024.ipynb\" target=\"_parent\"><img src=\"https://colab.research.google.com/assets/colab-badge.svg\" alt=\"Open In Colab\"/></a>"
      ]
    },
    {
      "cell_type": "markdown",
      "source": [
        "<b>1. </b>Number of occurrence<br>\n",
        "Problem statement<br>\n",
        "You have been given a sorted array/list of integers 'arr' of size 'n' and an integer 'x'.<br>\n",
        "Find the total number of occurrences of 'x' in the array/list.<br>\n",
        "Example:<br>\n",
        "Input: 'n' = 7, 'x' = 3<br>\n",
        "'arr' = [1, 1, 1, 2, 2, 3, 3]<br>\n",
        "Output: 2<br>\n",
        "Explanation: Total occurrences of '3' in the array 'arr' is 2.<br>"
      ],
      "metadata": {
        "id": "5RXpVU3c845c"
      }
    },
    {
      "cell_type": "code",
      "source": [],
      "metadata": {
        "id": "72wU2PEv9HVe"
      },
      "execution_count": null,
      "outputs": []
    }
  ]
}